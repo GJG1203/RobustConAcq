{
 "cells": [
  {
   "cell_type": "code",
   "execution_count": 1,
   "id": "2b27e457-9fd0-49e7-9e7d-6988d2c3a695",
   "metadata": {},
   "outputs": [],
   "source": [
    "import sys"
   ]
  },
  {
   "cell_type": "code",
   "execution_count": 2,
   "id": "495a012b-74fb-482c-bdfb-d2c37b55080b",
   "metadata": {},
   "outputs": [],
   "source": [
    "sys.path.append('C:\\\\Users\\\\gertj\\\\OneDrive\\\\Bureaublad\\\\School\\\\Master\\\\Thesis\\\\RobustConAcq\\\\RobustConAcq')"
   ]
  },
  {
   "cell_type": "code",
   "execution_count": 3,
   "id": "af93d8fa-526c-4e08-8cda-fe3b78468501",
   "metadata": {},
   "outputs": [],
   "source": [
    "from pycona import *\n",
    "import cpmpy as cp\n",
    "from sklearn.svm import OneClassSVM"
   ]
  },
  {
   "cell_type": "code",
   "execution_count": 4,
   "id": "b9041d76-ad13-43aa-b202-0c6fc9162121",
   "metadata": {},
   "outputs": [],
   "source": [
    "from pycona.active_algorithms import RobustAcq\n",
    "from pycona.answering_queries import MisclassifyingOracle"
   ]
  },
  {
   "cell_type": "code",
   "execution_count": 5,
   "id": "ead04d8d-fae7-463b-afec-ed89427dda37",
   "metadata": {},
   "outputs": [],
   "source": [
    "def construct_nurse_rostering(shifts_per_day, num_days, num_nurses, nurses_per_shift):\n",
    "\n",
    "    # Define the variables\n",
    "    roster_matrix = cp.intvar(1, num_nurses, shape=(num_days, shifts_per_day, nurses_per_shift), \n",
    "                              name=\"shifts\")\n",
    "\n",
    "\n",
    "    # Create the language:\n",
    "    AV = absvar(2)  # create abstract vars - as many as maximum arity\n",
    "    # create abstract relations using the abstract vars\n",
    "    lang = [AV[0] == AV[1], AV[0] != AV[1], AV[0] < AV[1], AV[0] > AV[1], AV[0] >= AV[1], AV[0] <= AV[1]]\n",
    "\n",
    "    instance = ProblemInstance(variables=roster_matrix, language=lang)\n",
    "\n",
    "    return instance"
   ]
  },
  {
   "cell_type": "code",
   "execution_count": 6,
   "id": "e5923566-ebca-4be3-85ee-8e3eed51094a",
   "metadata": {},
   "outputs": [],
   "source": [
    "def construct_nurse_rostering_with_oracle(shifts_per_day, num_days, num_nurses, nurses_per_shift):\n",
    "    \n",
    "    inst = construct_nurse_rostering(shifts_per_day, num_days, num_nurses, nurses_per_shift)\n",
    "    \n",
    "    # Create an oracle for simulation, by defining the ground truth problem\n",
    "    ## Define the variables\n",
    "    roster_matrix = inst.variables\n",
    "    \n",
    "    ## Define the list of (fixed-arity/decomposed) constraints\n",
    "    C_T = []\n",
    "\n",
    "    ## Constraint: Each shift in a day must be assigned to a different nurse\n",
    "    for day in range(num_days):\n",
    "        C_T += cp.AllDifferent(roster_matrix[day, ...]).decompose()   # ... means all remaining dimensions\n",
    "\n",
    "    ## Constraint: The last shift of a day cannot have the same nurse as the first shift of the next day\n",
    "    for day in range(num_days - 1):\n",
    "        C_T += cp.AllDifferent(roster_matrix[day, shifts_per_day - 1], roster_matrix[day + 1, 0]).decompose()\n",
    "\n",
    "    oracle = MisclassifyingOracle(C_T, misclassification_rate=0.1)\n",
    "\n",
    "    return inst, oracle"
   ]
  },
  {
   "cell_type": "code",
   "execution_count": 7,
   "id": "d093728c-eedd-4735-8bbd-475f6fade4c4",
   "metadata": {},
   "outputs": [],
   "source": [
    "instance, oracle = construct_nurse_rostering_with_oracle(3, 2, 8, 2)"
   ]
  },
  {
   "cell_type": "code",
   "execution_count": 8,
   "id": "22137bed-0d6f-4bab-9180-8cd69d7d36f8",
   "metadata": {
    "scrolled": true
   },
   "outputs": [
    {
     "name": "stdout",
     "output_type": "stream",
     "text": [
      "......L......Lflipped answer\n",
      "..........L......LdatasetX length: \n",
      "226\n",
      "datasetY: \n",
      "226\n",
      "len bias_union: 393\n",
      "removed 0 constraints from Br\n",
      "added 0 constraints to bias\n",
      "........LdatasetX length: \n",
      "244\n",
      "datasetY: \n",
      "244\n",
      "len bias_union: 393\n",
      "removed 0 constraints from Br\n",
      "added 0 constraints to bias\n",
      ".......LdatasetX length: \n",
      "250\n",
      "datasetY: \n",
      "250\n",
      "len bias_union: 393\n",
      "removed 0 constraints from Br\n",
      "added 0 constraints to bias\n",
      "..........LdatasetX length: \n",
      "415\n",
      "datasetY: \n",
      "415\n",
      "len bias_union: 393\n",
      "removed 0 constraints from Br\n",
      "added 0 constraints to bias\n",
      "...........LdatasetX length: \n",
      "439\n",
      "datasetY: \n",
      "439\n",
      "len bias_union: 392\n",
      "removed 0 constraints from Br\n",
      "added 0 constraints to bias\n",
      "............LdatasetX length: \n",
      "475\n",
      "datasetY: \n",
      "475\n",
      "len bias_union: 391\n",
      "removed 0 constraints from Br\n",
      "added 0 constraints to bias\n",
      "flipped answer\n",
      ".datasetX length: \n",
      "536\n",
      "datasetY: \n",
      "536\n",
      "len bias_union: 391\n",
      "removed 0 constraints from Br\n",
      "added 0 constraints to bias\n",
      "............LdatasetX length: \n",
      "572\n",
      "datasetY: \n",
      "572\n",
      "len bias_union: 390\n",
      "removed 0 constraints from Br\n",
      "added 0 constraints to bias\n",
      ".........LdatasetX length: \n",
      "602\n",
      "datasetY: \n",
      "602\n",
      "len bias_union: 390\n",
      "removed 0 constraints from Br\n",
      "added 0 constraints to bias\n",
      "...........LdatasetX length: \n",
      "641\n",
      "datasetY: \n",
      "641\n",
      "len bias_union: 390\n",
      "removed 0 constraints from Br\n",
      "added 0 constraints to bias\n",
      "........LdatasetX length: \n",
      "689\n",
      "datasetY: \n",
      "689\n",
      "len bias_union: 389\n",
      "removed 0 constraints from Br\n",
      "added 0 constraints to bias\n",
      ".........LdatasetX length: \n",
      "752\n",
      "datasetY: \n",
      "752\n",
      "len bias_union: 389\n",
      "removed 0 constraints from Br\n",
      "added 0 constraints to bias\n",
      "...........LdatasetX length: \n",
      "794\n",
      "datasetY: \n",
      "794\n",
      "len bias_union: 389\n",
      "removed 0 constraints from Br\n",
      "added 0 constraints to bias\n",
      "flipped answer\n",
      ".datasetX length: \n",
      "806\n",
      "datasetY: \n",
      "806\n",
      "len bias_union: 389\n",
      "removed 0 constraints from Br\n",
      "added 0 constraints to bias\n",
      ".datasetX length: \n",
      "806\n",
      "datasetY: \n",
      "806\n",
      "len bias_union: 389\n",
      "removed 0 constraints from Br\n",
      "added 0 constraints to bias\n",
      ".datasetX length: \n",
      "806\n",
      "datasetY: \n",
      "806\n",
      "len bias_union: 389\n",
      "removed 0 constraints from Br\n",
      "added 0 constraints to bias\n",
      ".datasetX length: \n",
      "806\n",
      "datasetY: \n",
      "806\n",
      "len bias_union: 389\n",
      "removed 0 constraints from Br\n",
      "added 0 constraints to bias\n",
      ".datasetX length: \n",
      "806\n",
      "datasetY: \n",
      "806\n",
      "len bias_union: 389\n",
      "removed 0 constraints from Br\n",
      "added 0 constraints to bias\n",
      ".datasetX length: \n",
      "806\n",
      "datasetY: \n",
      "806\n",
      "len bias_union: 389\n",
      "removed 0 constraints from Br\n",
      "added 0 constraints to bias\n",
      ".datasetX length: \n",
      "806\n",
      "datasetY: \n",
      "806\n",
      "len bias_union: 389\n",
      "removed 0 constraints from Br\n",
      "added 0 constraints to bias\n",
      ".datasetX length: \n",
      "806\n",
      "datasetY: \n",
      "806\n",
      "len bias_union: 389\n",
      "removed 0 constraints from Br\n",
      "added 0 constraints to bias\n",
      ".datasetX length: \n",
      "806\n",
      "datasetY: \n",
      "806\n",
      "len bias_union: 389\n",
      "removed 0 constraints from Br\n",
      "added 0 constraints to bias\n",
      ".datasetX length: \n",
      "806\n",
      "datasetY: \n",
      "806\n",
      "len bias_union: 389\n",
      "removed 0 constraints from Br\n",
      "added 0 constraints to bias\n",
      ".datasetX length: \n",
      "806\n",
      "datasetY: \n",
      "806\n",
      "len bias_union: 389\n",
      "removed 0 constraints from Br\n",
      "added 0 constraints to bias\n",
      "."
     ]
    }
   ],
   "source": [
    "#env = ProbaActiveCAEnv()\n",
    "ca = RobustAcq(stop_thresh=10, retrain_thresh=3)\n",
    "learned_instance = ca.learn(instance, oracle=oracle, verbose=1)"
   ]
  },
  {
   "cell_type": "code",
   "execution_count": 9,
   "id": "7033aba5-a0a3-4219-bfb4-7a4657cdd8ea",
   "metadata": {},
   "outputs": [
    {
     "data": {
      "text/plain": [
       "[(shifts[1,0,0]) != (shifts[1,1,0]),\n",
       " (shifts[0,2,0]) != (shifts[1,0,0]),\n",
       " (shifts[0,2,1]) != (shifts[1,0,1]),\n",
       " (shifts[1,0,0]) != (shifts[1,0,1]),\n",
       " (shifts[0,1,1]) != (shifts[0,2,0]),\n",
       " (shifts[0,2,0]) != (shifts[1,0,1]),\n",
       " (shifts[0,0,0]) != (shifts[0,0,1]),\n",
       " (shifts[0,2,1]) != (shifts[1,0,0]),\n",
       " (shifts[1,0,0]) != (shifts[1,2,1]),\n",
       " (shifts[1,0,0]) != (shifts[1,1,1]),\n",
       " (shifts[1,1,1]) != (shifts[1,2,1]),\n",
       " (shifts[0,1,1]) != (shifts[0,2,1]),\n",
       " (shifts[1,0,0]) != (shifts[1,2,0]),\n",
       " (shifts[1,0,1]) != (shifts[1,2,0]),\n",
       " (shifts[1,1,1]) != (shifts[1,2,0])]"
      ]
     },
     "execution_count": 9,
     "metadata": {},
     "output_type": "execute_result"
    }
   ],
   "source": [
    "learned_instance.cl"
   ]
  },
  {
   "cell_type": "code",
   "execution_count": 10,
   "id": "07d424d0-63e1-40e5-97a5-1c1cd51e42bd",
   "metadata": {},
   "outputs": [
    {
     "data": {
      "text/plain": [
       "15"
      ]
     },
     "execution_count": 10,
     "metadata": {},
     "output_type": "execute_result"
    }
   ],
   "source": [
    "len(learned_instance.cl)"
   ]
  },
  {
   "cell_type": "code",
   "execution_count": 11,
   "id": "462e4f2e-9b92-4700-b0a3-296e0164432a",
   "metadata": {},
   "outputs": [],
   "source": [
    "c = list(set(oracle.constraints) - set(learned_instance.cl))"
   ]
  },
  {
   "cell_type": "code",
   "execution_count": 12,
   "id": "34a7a6e9-838c-4154-a818-2a2b26b92538",
   "metadata": {},
   "outputs": [
    {
     "data": {
      "text/plain": [
       "[(shifts[0,0,0]) != (shifts[0,1,0]),\n",
       " (shifts[0,1,0]) != (shifts[0,2,0]),\n",
       " (shifts[0,0,1]) != (shifts[0,2,0]),\n",
       " (shifts[0,0,1]) != (shifts[0,1,1]),\n",
       " (shifts[0,0,0]) != (shifts[0,2,0]),\n",
       " (shifts[1,0,1]) != (shifts[1,1,1]),\n",
       " (shifts[0,0,0]) != (shifts[0,1,1]),\n",
       " (shifts[0,0,1]) != (shifts[0,1,0]),\n",
       " (shifts[1,2,0]) != (shifts[1,2,1]),\n",
       " (shifts[0,2,0]) != (shifts[0,2,1]),\n",
       " (shifts[1,1,0]) != (shifts[1,2,0]),\n",
       " (shifts[1,1,0]) != (shifts[1,2,1]),\n",
       " (shifts[1,1,0]) != (shifts[1,1,1]),\n",
       " (shifts[0,1,0]) != (shifts[0,1,1]),\n",
       " (shifts[1,0,1]) != (shifts[1,1,0]),\n",
       " (shifts[0,0,0]) != (shifts[0,2,1]),\n",
       " (shifts[0,0,1]) != (shifts[0,2,1]),\n",
       " (shifts[1,0,1]) != (shifts[1,2,1]),\n",
       " (shifts[0,1,0]) != (shifts[0,2,1])]"
      ]
     },
     "execution_count": 12,
     "metadata": {},
     "output_type": "execute_result"
    }
   ],
   "source": [
    "c"
   ]
  },
  {
   "cell_type": "code",
   "execution_count": null,
   "id": "4f6d4c6c-98f8-45ea-8e50-a33a85c9aef2",
   "metadata": {},
   "outputs": [],
   "source": []
  }
 ],
 "metadata": {
  "kernelspec": {
   "display_name": "Python 3 (ipykernel)",
   "language": "python",
   "name": "python3"
  },
  "language_info": {
   "codemirror_mode": {
    "name": "ipython",
    "version": 3
   },
   "file_extension": ".py",
   "mimetype": "text/x-python",
   "name": "python",
   "nbconvert_exporter": "python",
   "pygments_lexer": "ipython3",
   "version": "3.10.15"
  }
 },
 "nbformat": 4,
 "nbformat_minor": 5
}
