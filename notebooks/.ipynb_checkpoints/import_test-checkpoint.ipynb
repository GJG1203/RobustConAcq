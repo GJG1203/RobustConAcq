{
 "cells": [
  {
   "cell_type": "code",
   "execution_count": 1,
   "id": "10d62eb8-08cb-4c7c-83fa-1eb45def89a4",
   "metadata": {},
   "outputs": [],
   "source": [
    "import sys"
   ]
  },
  {
   "cell_type": "code",
   "execution_count": 2,
   "id": "e69b1ad9-bbdb-4694-9f70-dae9e66a2157",
   "metadata": {},
   "outputs": [],
   "source": [
    "sys.path.append('C:\\\\Users\\\\gertj\\\\OneDrive\\\\Bureaublad\\\\School\\\\Master\\\\Thesis\\\\RobustConAcq\\\\RobustConAcq')"
   ]
  },
  {
   "cell_type": "code",
   "execution_count": 3,
   "id": "bc322054-635e-44c7-b913-c660e0c48aae",
   "metadata": {},
   "outputs": [],
   "source": [
    "from pycona.active_algorithms import RobustAcq"
   ]
  },
  {
   "cell_type": "code",
   "execution_count": 8,
   "id": "0a07348f-3241-4dcb-bb22-6222f11ccb85",
   "metadata": {},
   "outputs": [],
   "source": [
    "from pycona import *"
   ]
  },
  {
   "cell_type": "code",
   "execution_count": 9,
   "id": "655423c7-c912-4740-b7bb-3840b9ea9df3",
   "metadata": {},
   "outputs": [],
   "source": [
    "import cpmpy as cp\n",
    "\n",
    "def construct_nurse_rostering(shifts_per_day, num_days, num_nurses, nurses_per_shift):\n",
    "\n",
    "    # Define the variables\n",
    "    roster_matrix = cp.intvar(1, num_nurses, shape=(num_days, shifts_per_day, nurses_per_shift), \n",
    "                              name=\"shifts\")\n",
    "\n",
    "\n",
    "    # Create the language:\n",
    "    AV = absvar(2)  # create abstract vars - as many as maximum arity\n",
    "    # create abstract relations using the abstract vars\n",
    "    lang = [AV[0] == AV[1], AV[0] != AV[1], AV[0] < AV[1], AV[0] > AV[1], AV[0] >= AV[1], AV[0] <= AV[1]]\n",
    "\n",
    "    instance = ProblemInstance(variables=roster_matrix, language=lang)\n",
    "\n",
    "    return instance"
   ]
  },
  {
   "cell_type": "code",
   "execution_count": 10,
   "id": "37980064-1239-483d-9e9c-c173f7afa10d",
   "metadata": {},
   "outputs": [
    {
     "name": "stdout",
     "output_type": "stream",
     "text": [
      "ProblemInstance: \n",
      "\n",
      "Variables: [[[shifts[0,0,0] shifts[0,0,1]]\n",
      "  [shifts[0,1,0] shifts[0,1,1]]\n",
      "  [shifts[0,2,0] shifts[0,2,1]]]\n",
      "\n",
      " [[shifts[1,0,0] shifts[1,0,1]]\n",
      "  [shifts[1,1,0] shifts[1,1,1]]\n",
      "  [shifts[1,2,0] shifts[1,2,1]]]].\n",
      "\n",
      "Language: [(AV4) == (AV5), (AV4) != (AV5), (AV4) < (AV5), (AV4) > (AV5), (AV4) >= (AV5), (AV4) <= (AV5)].\n"
     ]
    }
   ],
   "source": [
    "instance = construct_nurse_rostering(3, 2, 8, 2)\n",
    "print(instance)"
   ]
  },
  {
   "cell_type": "code",
   "execution_count": 11,
   "id": "4037838d-d716-4f7b-9a92-3e2ecf34ee1e",
   "metadata": {},
   "outputs": [],
   "source": [
    "def construct_nurse_rostering_with_oracle(shifts_per_day, num_days, num_nurses, nurses_per_shift):\n",
    "    \n",
    "    inst = construct_nurse_rostering(shifts_per_day, num_days, num_nurses, nurses_per_shift)\n",
    "    \n",
    "    # Create an oracle for simulation, by defining the ground truth problem\n",
    "    ## Define the variables\n",
    "    roster_matrix = inst.variables\n",
    "    \n",
    "    ## Define the list of (fixed-arity/decomposed) constraints\n",
    "    C_T = []\n",
    "\n",
    "    ## Constraint: Each shift in a day must be assigned to a different nurse\n",
    "    for day in range(num_days):\n",
    "        C_T += cp.AllDifferent(roster_matrix[day, ...]).decompose()   # ... means all remaining dimensions\n",
    "\n",
    "    ## Constraint: The last shift of a day cannot have the same nurse as the first shift of the next day\n",
    "    for day in range(num_days - 1):\n",
    "        C_T += cp.AllDifferent(roster_matrix[day, shifts_per_day - 1], roster_matrix[day + 1, 0]).decompose()\n",
    "\n",
    "    oracle = ConstraintOracle(C_T)\n",
    "\n",
    "    return inst, oracle"
   ]
  },
  {
   "cell_type": "code",
   "execution_count": 12,
   "id": "8659ee39-66f0-4684-ae21-43354cb4902f",
   "metadata": {},
   "outputs": [
    {
     "name": "stdout",
     "output_type": "stream",
     "text": [
      "......L........L..........L...........L.......L........L....L....L...L......L..L.....L..........L.......L......L...L...L..............L.........L..........L........L......L.........L.......L........L........L...L....L........L.......L......L........L.....L...L..\n",
      "Learned 34 constraints in 228 queries.\n"
     ]
    }
   ],
   "source": [
    "instance, oracle = construct_nurse_rostering_with_oracle(3, 2, 8, 2)\n",
    "\n",
    "ca = RobustAcq()\n",
    "learned_instance = ca.learn(instance, oracle=oracle, verbose=1)"
   ]
  },
  {
   "cell_type": "code",
   "execution_count": null,
   "id": "41b91e4e-74ff-4c15-8f4f-6774abff468d",
   "metadata": {},
   "outputs": [],
   "source": []
  }
 ],
 "metadata": {
  "kernelspec": {
   "display_name": "Python 3 (ipykernel)",
   "language": "python",
   "name": "python3"
  },
  "language_info": {
   "codemirror_mode": {
    "name": "ipython",
    "version": 3
   },
   "file_extension": ".py",
   "mimetype": "text/x-python",
   "name": "python",
   "nbconvert_exporter": "python",
   "pygments_lexer": "ipython3",
   "version": "3.10.15"
  }
 },
 "nbformat": 4,
 "nbformat_minor": 5
}
