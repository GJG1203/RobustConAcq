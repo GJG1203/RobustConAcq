{
 "cells": [
  {
   "cell_type": "code",
   "execution_count": 1,
   "id": "2b27e457-9fd0-49e7-9e7d-6988d2c3a695",
   "metadata": {},
   "outputs": [],
   "source": [
    "import sys"
   ]
  },
  {
   "cell_type": "code",
   "execution_count": 2,
   "id": "495a012b-74fb-482c-bdfb-d2c37b55080b",
   "metadata": {},
   "outputs": [],
   "source": [
    "sys.path.append('C:\\\\Users\\\\gertj\\\\OneDrive\\\\Bureaublad\\\\School\\\\Master\\\\Thesis\\\\RobustConAcq\\\\RobustConAcq')"
   ]
  },
  {
   "cell_type": "code",
   "execution_count": 3,
   "id": "af93d8fa-526c-4e08-8cda-fe3b78468501",
   "metadata": {},
   "outputs": [],
   "source": [
    "from pycona import *\n",
    "import cpmpy as cp\n",
    "from sklearn.ensemble import RandomForestClassifier"
   ]
  },
  {
   "cell_type": "code",
   "execution_count": 4,
   "id": "b9041d76-ad13-43aa-b202-0c6fc9162121",
   "metadata": {},
   "outputs": [],
   "source": [
    "from pycona.active_algorithms import RobustAcq\n",
    "from pycona.answering_queries import MisclassifyingOracle"
   ]
  },
  {
   "cell_type": "code",
   "execution_count": 5,
   "id": "ead04d8d-fae7-463b-afec-ed89427dda37",
   "metadata": {},
   "outputs": [],
   "source": [
    "def construct_nurse_rostering(shifts_per_day, num_days, num_nurses, nurses_per_shift):\n",
    "\n",
    "    # Define the variables\n",
    "    roster_matrix = cp.intvar(1, num_nurses, shape=(num_days, shifts_per_day, nurses_per_shift), \n",
    "                              name=\"shifts\")\n",
    "\n",
    "\n",
    "    # Create the language:\n",
    "    AV = absvar(2)  # create abstract vars - as many as maximum arity\n",
    "    # create abstract relations using the abstract vars\n",
    "    lang = [AV[0] == AV[1], AV[0] != AV[1], AV[0] < AV[1], AV[0] > AV[1], AV[0] >= AV[1], AV[0] <= AV[1]]\n",
    "\n",
    "    instance = ProblemInstance(variables=roster_matrix, language=lang)\n",
    "\n",
    "    return instance"
   ]
  },
  {
   "cell_type": "code",
   "execution_count": 6,
   "id": "e5923566-ebca-4be3-85ee-8e3eed51094a",
   "metadata": {},
   "outputs": [],
   "source": [
    "def construct_nurse_rostering_with_oracle(shifts_per_day, num_days, num_nurses, nurses_per_shift):\n",
    "    \n",
    "    inst = construct_nurse_rostering(shifts_per_day, num_days, num_nurses, nurses_per_shift)\n",
    "    \n",
    "    # Create an oracle for simulation, by defining the ground truth problem\n",
    "    ## Define the variables\n",
    "    roster_matrix = inst.variables\n",
    "    \n",
    "    ## Define the list of (fixed-arity/decomposed) constraints\n",
    "    C_T = []\n",
    "\n",
    "    ## Constraint: Each shift in a day must be assigned to a different nurse\n",
    "    for day in range(num_days):\n",
    "        C_T += cp.AllDifferent(roster_matrix[day, ...]).decompose()   # ... means all remaining dimensions\n",
    "\n",
    "    ## Constraint: The last shift of a day cannot have the same nurse as the first shift of the next day\n",
    "    for day in range(num_days - 1):\n",
    "        C_T += cp.AllDifferent(roster_matrix[day, shifts_per_day - 1], roster_matrix[day + 1, 0]).decompose()\n",
    "\n",
    "    oracle = MisclassifyingOracle(C_T, misclassification_rate=0.1)\n",
    "\n",
    "    return inst, oracle"
   ]
  },
  {
   "cell_type": "code",
   "execution_count": 7,
   "id": "d093728c-eedd-4735-8bbd-475f6fade4c4",
   "metadata": {},
   "outputs": [],
   "source": [
    "instance, oracle = construct_nurse_rostering_with_oracle(3, 2, 8, 2)"
   ]
  },
  {
   "cell_type": "code",
   "execution_count": 8,
   "id": "22137bed-0d6f-4bab-9180-8cd69d7d36f8",
   "metadata": {
    "scrolled": true
   },
   "outputs": [
    {
     "name": "stdout",
     "output_type": "stream",
     "text": [
      "robust pqgen\n",
      ".......Lrobust pqgen\n",
      "..."
     ]
    },
    {
     "ename": "KeyError",
     "evalue": "(shifts[0,0,0]) > (shifts[0,0,1])",
     "output_type": "error",
     "traceback": [
      "\u001b[1;31m---------------------------------------------------------------------------\u001b[0m",
      "\u001b[1;31mKeyError\u001b[0m                                  Traceback (most recent call last)",
      "Cell \u001b[1;32mIn[8], line 3\u001b[0m\n\u001b[0;32m      1\u001b[0m \u001b[38;5;66;03m#env = ProbaActiveCAEnv(classifier=RandomForestClassifier())\u001b[39;00m\n\u001b[0;32m      2\u001b[0m ca \u001b[38;5;241m=\u001b[39m RobustAcq(stop_thresh\u001b[38;5;241m=\u001b[39m\u001b[38;5;241m10\u001b[39m, retrain_thresh\u001b[38;5;241m=\u001b[39m\u001b[38;5;241m3\u001b[39m)\n\u001b[1;32m----> 3\u001b[0m learned_instance \u001b[38;5;241m=\u001b[39m \u001b[43mca\u001b[49m\u001b[38;5;241;43m.\u001b[39;49m\u001b[43mlearn\u001b[49m\u001b[43m(\u001b[49m\u001b[43minstance\u001b[49m\u001b[43m,\u001b[49m\u001b[43m \u001b[49m\u001b[43moracle\u001b[49m\u001b[38;5;241;43m=\u001b[39;49m\u001b[43moracle\u001b[49m\u001b[43m,\u001b[49m\u001b[43m \u001b[49m\u001b[43mverbose\u001b[49m\u001b[38;5;241;43m=\u001b[39;49m\u001b[38;5;241;43m1\u001b[39;49m\u001b[43m)\u001b[49m\n",
      "File \u001b[1;32m~\\OneDrive\\Bureaublad\\School\\Master\\Thesis\\RobustConAcq\\RobustConAcq\\pycona\\active_algorithms\\robustacq.py:107\u001b[0m, in \u001b[0;36mRobustAcq.learn\u001b[1;34m(self, instance, oracle, verbose, metrics)\u001b[0m\n\u001b[0;32m    105\u001b[0m     \u001b[38;5;28mself\u001b[39m\u001b[38;5;241m.\u001b[39menv\u001b[38;5;241m.\u001b[39mremove_from_bias(kappa)\n\u001b[0;32m    106\u001b[0m \u001b[38;5;28;01melse\u001b[39;00m:\n\u001b[1;32m--> 107\u001b[0m     scope \u001b[38;5;241m=\u001b[39m \u001b[38;5;28;43mself\u001b[39;49m\u001b[38;5;241;43m.\u001b[39;49m\u001b[43menv\u001b[49m\u001b[38;5;241;43m.\u001b[39;49m\u001b[43mrun_find_scope\u001b[49m\u001b[43m(\u001b[49m\u001b[43mq1\u001b[49m\u001b[43m)\u001b[49m\n\u001b[0;32m    108\u001b[0m     c \u001b[38;5;241m=\u001b[39m \u001b[38;5;28mself\u001b[39m\u001b[38;5;241m.\u001b[39menv\u001b[38;5;241m.\u001b[39mrun_findc(scope)\n\u001b[0;32m    109\u001b[0m     \u001b[38;5;28;01mif\u001b[39;00m c:\n",
      "File \u001b[1;32m~\\OneDrive\\Bureaublad\\School\\Master\\Thesis\\RobustConAcq\\RobustConAcq\\pycona\\ca_environment\\active_ca_proba.py:75\u001b[0m, in \u001b[0;36mProbaActiveCAEnv.run_find_scope\u001b[1;34m(self, Y)\u001b[0m\n\u001b[0;32m     73\u001b[0m     \u001b[38;5;28mself\u001b[39m\u001b[38;5;241m.\u001b[39m_train_classifier()\n\u001b[0;32m     74\u001b[0m     \u001b[38;5;28mself\u001b[39m\u001b[38;5;241m.\u001b[39m_predict_bias_proba()\n\u001b[1;32m---> 75\u001b[0m \u001b[38;5;28;01mreturn\u001b[39;00m \u001b[38;5;28;43msuper\u001b[39;49m\u001b[43m(\u001b[49m\u001b[43m)\u001b[49m\u001b[38;5;241;43m.\u001b[39;49m\u001b[43mrun_find_scope\u001b[49m\u001b[43m(\u001b[49m\u001b[43mY\u001b[49m\u001b[43m)\u001b[49m\n",
      "File \u001b[1;32m~\\OneDrive\\Bureaublad\\School\\Master\\Thesis\\RobustConAcq\\RobustConAcq\\pycona\\ca_environment\\active_ca.py:64\u001b[0m, in \u001b[0;36mActiveCAEnv.run_find_scope\u001b[1;34m(self, Y)\u001b[0m\n\u001b[0;32m     62\u001b[0m \u001b[38;5;28;01mdef\u001b[39;00m \u001b[38;5;21mrun_find_scope\u001b[39m(\u001b[38;5;28mself\u001b[39m, Y):\n\u001b[0;32m     63\u001b[0m \u001b[38;5;250m    \u001b[39m\u001b[38;5;124;03m\"\"\" Run the find scope process. \"\"\"\u001b[39;00m\n\u001b[1;32m---> 64\u001b[0m     scope \u001b[38;5;241m=\u001b[39m \u001b[38;5;28;43mself\u001b[39;49m\u001b[38;5;241;43m.\u001b[39;49m\u001b[43mfind_scope\u001b[49m\u001b[38;5;241;43m.\u001b[39;49m\u001b[43mrun\u001b[49m\u001b[43m(\u001b[49m\u001b[43mY\u001b[49m\u001b[43m)\u001b[49m\n\u001b[0;32m     65\u001b[0m     \u001b[38;5;28;01mreturn\u001b[39;00m scope\n",
      "File \u001b[1;32m~\\OneDrive\\Bureaublad\\School\\Master\\Thesis\\RobustConAcq\\RobustConAcq\\pycona\\find_scope\\findscope2.py:38\u001b[0m, in \u001b[0;36mFindScope2.run\u001b[1;34m(self, Y, kappa)\u001b[0m\n\u001b[0;32m     35\u001b[0m \u001b[38;5;28;01mif\u001b[39;00m \u001b[38;5;28mlen\u001b[39m(\u001b[38;5;28mself\u001b[39m\u001b[38;5;241m.\u001b[39m_kappaB) \u001b[38;5;241m==\u001b[39m \u001b[38;5;241m0\u001b[39m:\n\u001b[0;32m     36\u001b[0m     \u001b[38;5;28;01mraise\u001b[39;00m \u001b[38;5;167;01mException\u001b[39;00m(\u001b[38;5;124mf\u001b[39m\u001b[38;5;124m\"\u001b[39m\u001b[38;5;124mThe partial example e_Y, on the subset of variables Y given in FindScope, \u001b[39m\u001b[38;5;124m\"\u001b[39m\n\u001b[0;32m     37\u001b[0m                     \u001b[38;5;124mf\u001b[39m\u001b[38;5;124m\"\u001b[39m\u001b[38;5;124mmust be a negative example\u001b[39m\u001b[38;5;124m\"\u001b[39m)\n\u001b[1;32m---> 38\u001b[0m scope \u001b[38;5;241m=\u001b[39m \u001b[38;5;28;43mself\u001b[39;49m\u001b[38;5;241;43m.\u001b[39;49m\u001b[43m_find_scope\u001b[49m\u001b[43m(\u001b[49m\u001b[38;5;28;43mset\u001b[39;49m\u001b[43m(\u001b[49m\u001b[43m)\u001b[49m\u001b[43m,\u001b[49m\u001b[43m \u001b[49m\u001b[43mY\u001b[49m\u001b[43m)\u001b[49m\n\u001b[0;32m     40\u001b[0m \u001b[38;5;28;01mreturn\u001b[39;00m scope\n",
      "File \u001b[1;32m~\\OneDrive\\Bureaublad\\School\\Master\\Thesis\\RobustConAcq\\RobustConAcq\\pycona\\find_scope\\findscope2.py:98\u001b[0m, in \u001b[0;36mFindScope2._find_scope\u001b[1;34m(self, R, Y)\u001b[0m\n\u001b[0;32m     95\u001b[0m kappaBRS1 \u001b[38;5;241m=\u001b[39m get_con_subset(kappaBRY, RS1)\n\u001b[0;32m     97\u001b[0m \u001b[38;5;28;01mif\u001b[39;00m \u001b[38;5;28mlen\u001b[39m(kappaBRS1) \u001b[38;5;241m<\u001b[39m \u001b[38;5;28mlen\u001b[39m(kappaBRY):\n\u001b[1;32m---> 98\u001b[0m     S2 \u001b[38;5;241m=\u001b[39m \u001b[38;5;28;43mself\u001b[39;49m\u001b[38;5;241;43m.\u001b[39;49m\u001b[43m_find_scope\u001b[49m\u001b[43m(\u001b[49m\u001b[43mRS1\u001b[49m\u001b[43m,\u001b[49m\u001b[43m \u001b[49m\u001b[43mY1\u001b[49m\u001b[43m)\u001b[49m\n\u001b[0;32m    100\u001b[0m \u001b[38;5;28;01mreturn\u001b[39;00m S1\u001b[38;5;241m.\u001b[39munion(S2)\n",
      "File \u001b[1;32m~\\OneDrive\\Bureaublad\\School\\Master\\Thesis\\RobustConAcq\\RobustConAcq\\pycona\\find_scope\\findscope2.py:89\u001b[0m, in \u001b[0;36mFindScope2._find_scope\u001b[1;34m(self, R, Y)\u001b[0m\n\u001b[0;32m     86\u001b[0m kappaBRY1 \u001b[38;5;241m=\u001b[39m get_con_subset(kappaBRY, RY1)\n\u001b[0;32m     88\u001b[0m \u001b[38;5;28;01mif\u001b[39;00m \u001b[38;5;28mlen\u001b[39m(kappaBRY1) \u001b[38;5;241m<\u001b[39m \u001b[38;5;28mlen\u001b[39m(kappaBRY):\n\u001b[1;32m---> 89\u001b[0m     S1 \u001b[38;5;241m=\u001b[39m \u001b[38;5;28;43mself\u001b[39;49m\u001b[38;5;241;43m.\u001b[39;49m\u001b[43m_find_scope\u001b[49m\u001b[43m(\u001b[49m\u001b[43mRY1\u001b[49m\u001b[43m,\u001b[49m\u001b[43m \u001b[49m\u001b[43mY2\u001b[49m\u001b[43m)\u001b[49m\n\u001b[0;32m     90\u001b[0m     kappaBRY \u001b[38;5;241m=\u001b[39m get_con_subset(\u001b[38;5;28mself\u001b[39m\u001b[38;5;241m.\u001b[39m_kappaB, \u001b[38;5;28mlist\u001b[39m(RY))  \u001b[38;5;66;03m# update in case constraints were removed\u001b[39;00m\n\u001b[0;32m     92\u001b[0m \u001b[38;5;66;03m# R U S1\u001b[39;00m\n",
      "File \u001b[1;32m~\\OneDrive\\Bureaublad\\School\\Master\\Thesis\\RobustConAcq\\RobustConAcq\\pycona\\find_scope\\findscope2.py:63\u001b[0m, in \u001b[0;36mFindScope2._find_scope\u001b[1;34m(self, R, Y)\u001b[0m\n\u001b[0;32m     61\u001b[0m \u001b[38;5;28mself\u001b[39m\u001b[38;5;241m.\u001b[39mca\u001b[38;5;241m.\u001b[39mmetrics\u001b[38;5;241m.\u001b[39mincrease_findscope_queries()\n\u001b[0;32m     62\u001b[0m \u001b[38;5;28;01mif\u001b[39;00m \u001b[38;5;28mself\u001b[39m\u001b[38;5;241m.\u001b[39mca\u001b[38;5;241m.\u001b[39mask_membership_query(R):\n\u001b[1;32m---> 63\u001b[0m     \u001b[38;5;28;43mself\u001b[39;49m\u001b[38;5;241;43m.\u001b[39;49m\u001b[43mca\u001b[49m\u001b[38;5;241;43m.\u001b[39;49m\u001b[43mremove_from_bias\u001b[49m\u001b[43m(\u001b[49m\u001b[43mkappaBR\u001b[49m\u001b[43m)\u001b[49m\n\u001b[0;32m     64\u001b[0m     \u001b[38;5;66;03m# add to Br is in remove from bias method\u001b[39;00m\n\u001b[0;32m     65\u001b[0m     \u001b[38;5;66;03m# for c in kappaBR:\u001b[39;00m\n\u001b[0;32m     66\u001b[0m     \u001b[38;5;66;03m#     self.ca.add_to_Br(c)\u001b[39;00m\n\u001b[0;32m     67\u001b[0m     \u001b[38;5;28mself\u001b[39m\u001b[38;5;241m.\u001b[39m_kappaB \u001b[38;5;241m=\u001b[39m \u001b[38;5;28mlist\u001b[39m(\u001b[38;5;28mset\u001b[39m(\u001b[38;5;28mself\u001b[39m\u001b[38;5;241m.\u001b[39m_kappaB) \u001b[38;5;241m-\u001b[39m \u001b[38;5;28mset\u001b[39m(kappaBR))\n",
      "File \u001b[1;32m~\\OneDrive\\Bureaublad\\School\\Master\\Thesis\\RobustConAcq\\RobustConAcq\\pycona\\ca_environment\\active_ca_proba.py:231\u001b[0m, in \u001b[0;36mProbaActiveCAEnv.remove_from_bias\u001b[1;34m(self, C)\u001b[0m\n\u001b[0;32m    229\u001b[0m \u001b[38;5;28mself\u001b[39m\u001b[38;5;241m.\u001b[39mBr\u001b[38;5;241m.\u001b[39mextend(C)\n\u001b[0;32m    230\u001b[0m \u001b[38;5;28;01mfor\u001b[39;00m c \u001b[38;5;129;01min\u001b[39;00m C:\n\u001b[1;32m--> 231\u001b[0m     \u001b[38;5;28;43mself\u001b[39;49m\u001b[38;5;241;43m.\u001b[39;49m\u001b[43mbias_proba\u001b[49m\u001b[38;5;241;43m.\u001b[39;49m\u001b[43mpop\u001b[49m\u001b[43m(\u001b[49m\u001b[43mc\u001b[49m\u001b[43m)\u001b[49m\n\u001b[0;32m    233\u001b[0m \u001b[38;5;66;03m# featurize constraints and add them to the dataset\u001b[39;00m\n\u001b[0;32m    234\u001b[0m \u001b[38;5;28mself\u001b[39m\u001b[38;5;241m.\u001b[39mdatasetX\u001b[38;5;241m.\u001b[39mextend(\u001b[38;5;28mself\u001b[39m\u001b[38;5;241m.\u001b[39mfeature_representation\u001b[38;5;241m.\u001b[39mfeaturize_constraints(C))\n",
      "\u001b[1;31mKeyError\u001b[0m: (shifts[0,0,0]) > (shifts[0,0,1])"
     ]
    }
   ],
   "source": [
    "#env = ProbaActiveCAEnv(classifier=RandomForestClassifier())\n",
    "ca = RobustAcq(stop_thresh=10, retrain_thresh=3)\n",
    "learned_instance = ca.learn(instance, oracle=oracle, verbose=1)"
   ]
  },
  {
   "cell_type": "code",
   "execution_count": 9,
   "id": "a5154e6e-e56d-4c36-b958-34eaa97d63f5",
   "metadata": {},
   "outputs": [
    {
     "ename": "NameError",
     "evalue": "name 'learned_instance' is not defined",
     "output_type": "error",
     "traceback": [
      "\u001b[1;31m---------------------------------------------------------------------------\u001b[0m",
      "\u001b[1;31mNameError\u001b[0m                                 Traceback (most recent call last)",
      "Cell \u001b[1;32mIn[9], line 1\u001b[0m\n\u001b[1;32m----> 1\u001b[0m \u001b[43mlearned_instance\u001b[49m\u001b[38;5;241m.\u001b[39mbias\n",
      "\u001b[1;31mNameError\u001b[0m: name 'learned_instance' is not defined"
     ]
    }
   ],
   "source": [
    "learned_instance.bias"
   ]
  },
  {
   "cell_type": "code",
   "execution_count": null,
   "id": "7033aba5-a0a3-4219-bfb4-7a4657cdd8ea",
   "metadata": {},
   "outputs": [],
   "source": [
    "learned_instance.cl"
   ]
  },
  {
   "cell_type": "code",
   "execution_count": null,
   "id": "07d424d0-63e1-40e5-97a5-1c1cd51e42bd",
   "metadata": {},
   "outputs": [],
   "source": [
    "len(learned_instance.cl)"
   ]
  },
  {
   "cell_type": "code",
   "execution_count": null,
   "id": "462e4f2e-9b92-4700-b0a3-296e0164432a",
   "metadata": {},
   "outputs": [],
   "source": [
    "c = list(set(oracle.constraints) - set(learned_instance.cl))"
   ]
  },
  {
   "cell_type": "code",
   "execution_count": null,
   "id": "994e58e3-76ae-4548-8d1a-47edeff2c28c",
   "metadata": {},
   "outputs": [],
   "source": [
    "len(oracle.constraints)"
   ]
  },
  {
   "cell_type": "code",
   "execution_count": null,
   "id": "34a7a6e9-838c-4154-a818-2a2b26b92538",
   "metadata": {},
   "outputs": [],
   "source": [
    "c"
   ]
  },
  {
   "cell_type": "code",
   "execution_count": null,
   "id": "8053e7a7-9c7d-4671-9eff-795458327787",
   "metadata": {},
   "outputs": [],
   "source": []
  }
 ],
 "metadata": {
  "kernelspec": {
   "display_name": "Python 3 (ipykernel)",
   "language": "python",
   "name": "python3"
  },
  "language_info": {
   "codemirror_mode": {
    "name": "ipython",
    "version": 3
   },
   "file_extension": ".py",
   "mimetype": "text/x-python",
   "name": "python",
   "nbconvert_exporter": "python",
   "pygments_lexer": "ipython3",
   "version": "3.10.15"
  }
 },
 "nbformat": 4,
 "nbformat_minor": 5
}
