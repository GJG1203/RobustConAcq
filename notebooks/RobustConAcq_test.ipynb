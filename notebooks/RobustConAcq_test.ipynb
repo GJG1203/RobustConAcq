{
 "cells": [
  {
   "cell_type": "code",
   "execution_count": 1,
   "id": "2b27e457-9fd0-49e7-9e7d-6988d2c3a695",
   "metadata": {},
   "outputs": [],
   "source": [
    "import sys"
   ]
  },
  {
   "cell_type": "code",
   "execution_count": 2,
   "id": "495a012b-74fb-482c-bdfb-d2c37b55080b",
   "metadata": {},
   "outputs": [],
   "source": [
    "sys.path.append('C:\\\\Users\\\\gertj\\\\OneDrive\\\\Bureaublad\\\\School\\\\Master\\\\Thesis\\\\RobustConAcq\\\\RobustConAcq')"
   ]
  },
  {
   "cell_type": "code",
   "execution_count": 3,
   "id": "af93d8fa-526c-4e08-8cda-fe3b78468501",
   "metadata": {},
   "outputs": [],
   "source": [
    "from pycona import *\n",
    "import cpmpy as cp"
   ]
  },
  {
   "cell_type": "code",
   "execution_count": 4,
   "id": "b9041d76-ad13-43aa-b202-0c6fc9162121",
   "metadata": {},
   "outputs": [],
   "source": [
    "from pycona.active_algorithms import RobustAcq"
   ]
  },
  {
   "cell_type": "code",
   "execution_count": 5,
   "id": "ead04d8d-fae7-463b-afec-ed89427dda37",
   "metadata": {},
   "outputs": [],
   "source": [
    "def construct_nurse_rostering(shifts_per_day, num_days, num_nurses, nurses_per_shift):\n",
    "\n",
    "    # Define the variables\n",
    "    roster_matrix = cp.intvar(1, num_nurses, shape=(num_days, shifts_per_day, nurses_per_shift), \n",
    "                              name=\"shifts\")\n",
    "\n",
    "\n",
    "    # Create the language:\n",
    "    AV = absvar(2)  # create abstract vars - as many as maximum arity\n",
    "    # create abstract relations using the abstract vars\n",
    "    lang = [AV[0] == AV[1], AV[0] != AV[1], AV[0] < AV[1], AV[0] > AV[1], AV[0] >= AV[1], AV[0] <= AV[1]]\n",
    "\n",
    "    instance = ProblemInstance(variables=roster_matrix, language=lang)\n",
    "\n",
    "    return instance"
   ]
  },
  {
   "cell_type": "code",
   "execution_count": 6,
   "id": "e5923566-ebca-4be3-85ee-8e3eed51094a",
   "metadata": {},
   "outputs": [],
   "source": [
    "def construct_nurse_rostering_with_oracle(shifts_per_day, num_days, num_nurses, nurses_per_shift):\n",
    "    \n",
    "    inst = construct_nurse_rostering(shifts_per_day, num_days, num_nurses, nurses_per_shift)\n",
    "    \n",
    "    # Create an oracle for simulation, by defining the ground truth problem\n",
    "    ## Define the variables\n",
    "    roster_matrix = inst.variables\n",
    "    \n",
    "    ## Define the list of (fixed-arity/decomposed) constraints\n",
    "    C_T = []\n",
    "\n",
    "    ## Constraint: Each shift in a day must be assigned to a different nurse\n",
    "    for day in range(num_days):\n",
    "        C_T += cp.AllDifferent(roster_matrix[day, ...]).decompose()   # ... means all remaining dimensions\n",
    "\n",
    "    ## Constraint: The last shift of a day cannot have the same nurse as the first shift of the next day\n",
    "    for day in range(num_days - 1):\n",
    "        C_T += cp.AllDifferent(roster_matrix[day, shifts_per_day - 1], roster_matrix[day + 1, 0]).decompose()\n",
    "\n",
    "    oracle = ConstraintOracle(C_T)\n",
    "\n",
    "    return inst, oracle"
   ]
  },
  {
   "cell_type": "code",
   "execution_count": 7,
   "id": "d093728c-eedd-4735-8bbd-475f6fade4c4",
   "metadata": {},
   "outputs": [],
   "source": [
    "instance, oracle = construct_nurse_rostering_with_oracle(3, 2, 8, 2)"
   ]
  },
  {
   "cell_type": "code",
   "execution_count": null,
   "id": "22137bed-0d6f-4bab-9180-8cd69d7d36f8",
   "metadata": {},
   "outputs": [
    {
     "name": "stdout",
     "output_type": "stream",
     "text": [
      "396\n",
      "0\n",
      "396\n",
      "q1\n",
      ".q1 scope\n",
      ".....q1 cl\n",
      "L393\n",
      "3\n",
      "396\n",
      "q1\n",
      ".q1 scope\n",
      "......q1 cl\n",
      "L388\n",
      "8\n",
      "396\n",
      "q1\n",
      ".q1 scope\n",
      "......q1 cl\n",
      "L382\n",
      "14\n",
      "396\n",
      "q1\n",
      ".q1 scope\n",
      ".........q1 cl\n",
      "L361\n",
      "35\n",
      "396\n"
     ]
    }
   ],
   "source": [
    "ca = RobustAcq()\n",
    "learned_instance = ca.learn(instance, oracle=oracle, verbose=1)"
   ]
  },
  {
   "cell_type": "code",
   "execution_count": null,
   "id": "7033aba5-a0a3-4219-bfb4-7a4657cdd8ea",
   "metadata": {},
   "outputs": [],
   "source": [
    "learned_instance.cl"
   ]
  },
  {
   "cell_type": "code",
   "execution_count": null,
   "id": "07d424d0-63e1-40e5-97a5-1c1cd51e42bd",
   "metadata": {},
   "outputs": [],
   "source": [
    "len(learned_instance.cl)"
   ]
  },
  {
   "cell_type": "code",
   "execution_count": null,
   "id": "f7d7cefb-0c34-4cd9-90bb-d0b2f2d0a8a3",
   "metadata": {},
   "outputs": [],
   "source": []
  }
 ],
 "metadata": {
  "kernelspec": {
   "display_name": "Python 3 (ipykernel)",
   "language": "python",
   "name": "python3"
  },
  "language_info": {
   "codemirror_mode": {
    "name": "ipython",
    "version": 3
   },
   "file_extension": ".py",
   "mimetype": "text/x-python",
   "name": "python",
   "nbconvert_exporter": "python",
   "pygments_lexer": "ipython3",
   "version": "3.10.15"
  }
 },
 "nbformat": 4,
 "nbformat_minor": 5
}
