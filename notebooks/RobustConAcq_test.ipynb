{
 "cells": [
  {
   "cell_type": "code",
   "execution_count": 1,
   "id": "2b27e457-9fd0-49e7-9e7d-6988d2c3a695",
   "metadata": {},
   "outputs": [],
   "source": [
    "import sys"
   ]
  },
  {
   "cell_type": "code",
   "execution_count": 2,
   "id": "495a012b-74fb-482c-bdfb-d2c37b55080b",
   "metadata": {},
   "outputs": [],
   "source": [
    "sys.path.append('C:\\\\Users\\\\gertj\\\\OneDrive\\\\Bureaublad\\\\School\\\\Master\\\\Thesis\\\\RobustConAcq\\\\RobustConAcq')"
   ]
  },
  {
   "cell_type": "code",
   "execution_count": 3,
   "id": "af93d8fa-526c-4e08-8cda-fe3b78468501",
   "metadata": {},
   "outputs": [],
   "source": [
    "from pycona import *\n",
    "import cpmpy as cp"
   ]
  },
  {
   "cell_type": "code",
   "execution_count": 4,
   "id": "b9041d76-ad13-43aa-b202-0c6fc9162121",
   "metadata": {},
   "outputs": [],
   "source": [
    "from pycona.active_algorithms import RobustAcq"
   ]
  },
  {
   "cell_type": "code",
   "execution_count": 5,
   "id": "ead04d8d-fae7-463b-afec-ed89427dda37",
   "metadata": {},
   "outputs": [],
   "source": [
    "def construct_nurse_rostering(shifts_per_day, num_days, num_nurses, nurses_per_shift):\n",
    "\n",
    "    # Define the variables\n",
    "    roster_matrix = cp.intvar(1, num_nurses, shape=(num_days, shifts_per_day, nurses_per_shift), \n",
    "                              name=\"shifts\")\n",
    "\n",
    "\n",
    "    # Create the language:\n",
    "    AV = absvar(2)  # create abstract vars - as many as maximum arity\n",
    "    # create abstract relations using the abstract vars\n",
    "    lang = [AV[0] == AV[1], AV[0] != AV[1], AV[0] < AV[1], AV[0] > AV[1], AV[0] >= AV[1], AV[0] <= AV[1]]\n",
    "\n",
    "    instance = ProblemInstance(variables=roster_matrix, language=lang)\n",
    "\n",
    "    return instance"
   ]
  },
  {
   "cell_type": "code",
   "execution_count": 6,
   "id": "e5923566-ebca-4be3-85ee-8e3eed51094a",
   "metadata": {},
   "outputs": [],
   "source": [
    "def construct_nurse_rostering_with_oracle(shifts_per_day, num_days, num_nurses, nurses_per_shift):\n",
    "    \n",
    "    inst = construct_nurse_rostering(shifts_per_day, num_days, num_nurses, nurses_per_shift)\n",
    "    \n",
    "    # Create an oracle for simulation, by defining the ground truth problem\n",
    "    ## Define the variables\n",
    "    roster_matrix = inst.variables\n",
    "    \n",
    "    ## Define the list of (fixed-arity/decomposed) constraints\n",
    "    C_T = []\n",
    "\n",
    "    ## Constraint: Each shift in a day must be assigned to a different nurse\n",
    "    for day in range(num_days):\n",
    "        C_T += cp.AllDifferent(roster_matrix[day, ...]).decompose()   # ... means all remaining dimensions\n",
    "\n",
    "    ## Constraint: The last shift of a day cannot have the same nurse as the first shift of the next day\n",
    "    for day in range(num_days - 1):\n",
    "        C_T += cp.AllDifferent(roster_matrix[day, shifts_per_day - 1], roster_matrix[day + 1, 0]).decompose()\n",
    "\n",
    "    oracle = ConstraintOracle(C_T)\n",
    "\n",
    "    return inst, oracle"
   ]
  },
  {
   "cell_type": "code",
   "execution_count": 7,
   "id": "d093728c-eedd-4735-8bbd-475f6fade4c4",
   "metadata": {},
   "outputs": [],
   "source": [
    "instance, oracle = construct_nurse_rostering_with_oracle(3, 2, 8, 2)"
   ]
  },
  {
   "cell_type": "code",
   "execution_count": 8,
   "id": "22137bed-0d6f-4bab-9180-8cd69d7d36f8",
   "metadata": {},
   "outputs": [
    {
     "name": "stdout",
     "output_type": "stream",
     "text": [
      "396\n",
      "0\n",
      "396\n",
      ".......L390\n",
      "0\n",
      "396\n",
      "........L374\n",
      "0\n",
      "396\n",
      "............L346\n",
      "0\n",
      "396\n",
      "....L345\n",
      "0\n",
      "396\n",
      "...L344\n",
      "0\n",
      "396\n",
      ".....L343\n",
      "0\n",
      "396\n",
      "..........L240\n",
      "0\n",
      "396\n",
      "..........L207\n",
      "0\n",
      "396\n",
      "....L206\n",
      "0\n",
      "396\n",
      "......L204\n",
      "0\n",
      "396\n",
      "......L202\n",
      "0\n",
      "396\n",
      "....L200\n",
      "0\n",
      "396\n",
      "....L199\n",
      "0\n",
      "396\n",
      "..L198\n",
      "0\n",
      "396\n",
      "...L197\n",
      "0\n",
      "396\n",
      "......L196\n",
      "0\n",
      "396\n",
      "...........L186\n",
      "0\n",
      "396\n",
      "............L176\n",
      "0\n",
      "396\n",
      "......L175\n",
      "0\n",
      "396\n",
      "......L173\n",
      "0\n",
      "396\n",
      "....L172\n",
      "0\n",
      "172\n",
      ".172\n",
      "91\n",
      "81\n"
     ]
    },
    {
     "ename": "NotImplementedError",
     "evalue": "Objective given not implemented in PQGen: <function obj_proba at 0x000001F4FFB667A0> - Please report an issue",
     "output_type": "error",
     "traceback": [
      "\u001b[1;31m---------------------------------------------------------------------------\u001b[0m",
      "\u001b[1;31mKeyError\u001b[0m                                  Traceback (most recent call last)",
      "File \u001b[1;32m~\\OneDrive\\Bureaublad\\School\\Master\\Thesis\\RobustConAcq\\RobustConAcq\\pycona\\query_generation\\pqgen.py:210\u001b[0m, in \u001b[0;36mPQGen.robust_generate\u001b[1;34m(self, constraint_set)\u001b[0m\n\u001b[0;32m    209\u001b[0m \u001b[38;5;28;01mtry\u001b[39;00m:\n\u001b[1;32m--> 210\u001b[0m     objective \u001b[38;5;241m=\u001b[39m \u001b[38;5;28;43mself\u001b[39;49m\u001b[38;5;241;43m.\u001b[39;49m\u001b[43mobj\u001b[49m\u001b[43m(\u001b[49m\u001b[43mB\u001b[49m\u001b[38;5;241;43m=\u001b[39;49m\u001b[43mB\u001b[49m\u001b[43m,\u001b[49m\u001b[43m \u001b[49m\u001b[43mca_system\u001b[49m\u001b[38;5;241;43m=\u001b[39;49m\u001b[38;5;28;43mself\u001b[39;49m\u001b[38;5;241;43m.\u001b[39;49m\u001b[43menv\u001b[49m\u001b[43m)\u001b[49m\n\u001b[0;32m    211\u001b[0m \u001b[38;5;28;01mexcept\u001b[39;00m:\n",
      "File \u001b[1;32m~\\OneDrive\\Bureaublad\\School\\Master\\Thesis\\RobustConAcq\\RobustConAcq\\pycona\\query_generation\\qgen_obj.py:44\u001b[0m, in \u001b[0;36mobj_proba\u001b[1;34m(B, ca_system, **kwargs)\u001b[0m\n\u001b[0;32m     43\u001b[0m \u001b[38;5;28mprint\u001b[39m(\u001b[38;5;28mlen\u001b[39m(ca_system\u001b[38;5;241m.\u001b[39mbias_proba))\n\u001b[1;32m---> 44\u001b[0m proba \u001b[38;5;241m=\u001b[39m {c: ca_system\u001b[38;5;241m.\u001b[39mbias_proba[c] \u001b[38;5;28;01mfor\u001b[39;00m c \u001b[38;5;129;01min\u001b[39;00m B}\n\u001b[0;32m     45\u001b[0m Y \u001b[38;5;241m=\u001b[39m get_variables_from_constraints(B)\n",
      "File \u001b[1;32m~\\OneDrive\\Bureaublad\\School\\Master\\Thesis\\RobustConAcq\\RobustConAcq\\pycona\\query_generation\\qgen_obj.py:44\u001b[0m, in \u001b[0;36m<dictcomp>\u001b[1;34m(.0)\u001b[0m\n\u001b[0;32m     43\u001b[0m \u001b[38;5;28mprint\u001b[39m(\u001b[38;5;28mlen\u001b[39m(ca_system\u001b[38;5;241m.\u001b[39mbias_proba))\n\u001b[1;32m---> 44\u001b[0m proba \u001b[38;5;241m=\u001b[39m {c: \u001b[43mca_system\u001b[49m\u001b[38;5;241;43m.\u001b[39;49m\u001b[43mbias_proba\u001b[49m\u001b[43m[\u001b[49m\u001b[43mc\u001b[49m\u001b[43m]\u001b[49m \u001b[38;5;28;01mfor\u001b[39;00m c \u001b[38;5;129;01min\u001b[39;00m B}\n\u001b[0;32m     45\u001b[0m Y \u001b[38;5;241m=\u001b[39m get_variables_from_constraints(B)\n",
      "\u001b[1;31mKeyError\u001b[0m: (shifts[0,0,0]) < (shifts[0,0,1])",
      "\nDuring handling of the above exception, another exception occurred:\n",
      "\u001b[1;31mNotImplementedError\u001b[0m                       Traceback (most recent call last)",
      "Cell \u001b[1;32mIn[8], line 2\u001b[0m\n\u001b[0;32m      1\u001b[0m ca \u001b[38;5;241m=\u001b[39m RobustAcq()\n\u001b[1;32m----> 2\u001b[0m learned_instance \u001b[38;5;241m=\u001b[39m \u001b[43mca\u001b[49m\u001b[38;5;241;43m.\u001b[39;49m\u001b[43mlearn\u001b[49m\u001b[43m(\u001b[49m\u001b[43minstance\u001b[49m\u001b[43m,\u001b[49m\u001b[43m \u001b[49m\u001b[43moracle\u001b[49m\u001b[38;5;241;43m=\u001b[39;49m\u001b[43moracle\u001b[49m\u001b[43m,\u001b[49m\u001b[43m \u001b[49m\u001b[43mverbose\u001b[49m\u001b[38;5;241;43m=\u001b[39;49m\u001b[38;5;241;43m1\u001b[39;49m\u001b[43m)\u001b[49m\n",
      "File \u001b[1;32m~\\OneDrive\\Bureaublad\\School\\Master\\Thesis\\RobustConAcq\\RobustConAcq\\pycona\\active_algorithms\\robustacq.py:87\u001b[0m, in \u001b[0;36mRobustAcq.learn\u001b[1;34m(self, instance, oracle, verbose, metrics)\u001b[0m\n\u001b[0;32m     84\u001b[0m \u001b[38;5;28;01mif\u001b[39;00m \u001b[38;5;28mlen\u001b[39m(\u001b[38;5;28mself\u001b[39m\u001b[38;5;241m.\u001b[39menv\u001b[38;5;241m.\u001b[39minstance\u001b[38;5;241m.\u001b[39mcl) \u001b[38;5;241m>\u001b[39m \u001b[38;5;28mself\u001b[39m\u001b[38;5;241m.\u001b[39mretrain_thresh:\n\u001b[0;32m     85\u001b[0m     \u001b[38;5;28mself\u001b[39m\u001b[38;5;241m.\u001b[39mretrain_classifier()  \u001b[38;5;66;03m# Retrain classifier condition\u001b[39;00m\n\u001b[1;32m---> 87\u001b[0m q1 \u001b[38;5;241m=\u001b[39m \u001b[38;5;28;43mself\u001b[39;49m\u001b[38;5;241;43m.\u001b[39;49m\u001b[43menv\u001b[49m\u001b[38;5;241;43m.\u001b[39;49m\u001b[43mrun_robust_query_generation\u001b[49m\u001b[43m(\u001b[49m\u001b[38;5;28;43mself\u001b[39;49m\u001b[38;5;241;43m.\u001b[39;49m\u001b[43menv\u001b[49m\u001b[38;5;241;43m.\u001b[39;49m\u001b[43minstance\u001b[49m\u001b[38;5;241;43m.\u001b[39;49m\u001b[43mbias\u001b[49m\u001b[43m)\u001b[49m\n\u001b[0;32m     88\u001b[0m \u001b[38;5;28;01mif\u001b[39;00m q1 \u001b[38;5;129;01mis\u001b[39;00m \u001b[38;5;28;01mNone\u001b[39;00m:\n\u001b[0;32m     89\u001b[0m     q2 \u001b[38;5;241m=\u001b[39m \u001b[38;5;28mself\u001b[39m\u001b[38;5;241m.\u001b[39menv\u001b[38;5;241m.\u001b[39mrun_robust_query_generation(\u001b[38;5;28mself\u001b[39m\u001b[38;5;241m.\u001b[39mBr)\n",
      "File \u001b[1;32m~\\OneDrive\\Bureaublad\\School\\Master\\Thesis\\RobustConAcq\\RobustConAcq\\pycona\\ca_environment\\active_ca_proba.py:67\u001b[0m, in \u001b[0;36mProbaActiveCAEnv.run_robust_query_generation\u001b[1;34m(self, constraint_set)\u001b[0m\n\u001b[0;32m     65\u001b[0m \u001b[38;5;28;01mdef\u001b[39;00m \u001b[38;5;21mrun_robust_query_generation\u001b[39m(\u001b[38;5;28mself\u001b[39m, constraint_set):\n\u001b[0;32m     66\u001b[0m \u001b[38;5;250m    \u001b[39m\u001b[38;5;124;03m\"\"\" Run the query generation process. \"\"\"\u001b[39;00m\n\u001b[1;32m---> 67\u001b[0m     \u001b[38;5;28;01mreturn\u001b[39;00m \u001b[38;5;28;43msuper\u001b[39;49m\u001b[43m(\u001b[49m\u001b[43m)\u001b[49m\u001b[38;5;241;43m.\u001b[39;49m\u001b[43mrun_robust_query_generation\u001b[49m\u001b[43m(\u001b[49m\u001b[43mconstraint_set\u001b[49m\u001b[43m)\u001b[49m\n",
      "File \u001b[1;32m~\\OneDrive\\Bureaublad\\School\\Master\\Thesis\\RobustConAcq\\RobustConAcq\\pycona\\ca_environment\\active_ca.py:59\u001b[0m, in \u001b[0;36mActiveCAEnv.run_robust_query_generation\u001b[1;34m(self, constraint_set)\u001b[0m\n\u001b[0;32m     57\u001b[0m \u001b[38;5;28;01mdef\u001b[39;00m \u001b[38;5;21mrun_robust_query_generation\u001b[39m(\u001b[38;5;28mself\u001b[39m, constraint_set):\n\u001b[0;32m     58\u001b[0m \u001b[38;5;250m    \u001b[39m\u001b[38;5;124;03m\"\"\" Run the query generation process. \"\"\"\u001b[39;00m\n\u001b[1;32m---> 59\u001b[0m     Y \u001b[38;5;241m=\u001b[39m \u001b[38;5;28;43mself\u001b[39;49m\u001b[38;5;241;43m.\u001b[39;49m\u001b[43mqgen\u001b[49m\u001b[38;5;241;43m.\u001b[39;49m\u001b[43mrobust_generate\u001b[49m\u001b[43m(\u001b[49m\u001b[43mconstraint_set\u001b[49m\u001b[43m)\u001b[49m\n\u001b[0;32m     60\u001b[0m     \u001b[38;5;28;01mreturn\u001b[39;00m Y\n",
      "File \u001b[1;32m~\\OneDrive\\Bureaublad\\School\\Master\\Thesis\\RobustConAcq\\RobustConAcq\\pycona\\query_generation\\pqgen.py:212\u001b[0m, in \u001b[0;36mPQGen.robust_generate\u001b[1;34m(self, constraint_set)\u001b[0m\n\u001b[0;32m    210\u001b[0m     objective \u001b[38;5;241m=\u001b[39m \u001b[38;5;28mself\u001b[39m\u001b[38;5;241m.\u001b[39mobj(B\u001b[38;5;241m=\u001b[39mB, ca_system\u001b[38;5;241m=\u001b[39m\u001b[38;5;28mself\u001b[39m\u001b[38;5;241m.\u001b[39menv)\n\u001b[0;32m    211\u001b[0m \u001b[38;5;28;01mexcept\u001b[39;00m:\n\u001b[1;32m--> 212\u001b[0m     \u001b[38;5;28;01mraise\u001b[39;00m \u001b[38;5;167;01mNotImplementedError\u001b[39;00m(\u001b[38;5;124mf\u001b[39m\u001b[38;5;124m\"\u001b[39m\u001b[38;5;124mObjective given not implemented in PQGen: \u001b[39m\u001b[38;5;132;01m{\u001b[39;00m\u001b[38;5;28mself\u001b[39m\u001b[38;5;241m.\u001b[39mobj\u001b[38;5;132;01m}\u001b[39;00m\u001b[38;5;124m - Please report an issue\u001b[39m\u001b[38;5;124m\"\u001b[39m)\n\u001b[0;32m    214\u001b[0m \u001b[38;5;66;03m# Run with the objective\u001b[39;00m\n\u001b[0;32m    215\u001b[0m s\u001b[38;5;241m.\u001b[39mmaximize(objective)\n",
      "\u001b[1;31mNotImplementedError\u001b[0m: Objective given not implemented in PQGen: <function obj_proba at 0x000001F4FFB667A0> - Please report an issue"
     ]
    }
   ],
   "source": [
    "ca = RobustAcq()\n",
    "learned_instance = ca.learn(instance, oracle=oracle, verbose=1)"
   ]
  },
  {
   "cell_type": "code",
   "execution_count": null,
   "id": "fadf5a75-19d6-4b21-b24b-406079fa9adc",
   "metadata": {},
   "outputs": [],
   "source": []
  }
 ],
 "metadata": {
  "kernelspec": {
   "display_name": "Python 3 (ipykernel)",
   "language": "python",
   "name": "python3"
  },
  "language_info": {
   "codemirror_mode": {
    "name": "ipython",
    "version": 3
   },
   "file_extension": ".py",
   "mimetype": "text/x-python",
   "name": "python",
   "nbconvert_exporter": "python",
   "pygments_lexer": "ipython3",
   "version": "3.10.15"
  }
 },
 "nbformat": 4,
 "nbformat_minor": 5
}
