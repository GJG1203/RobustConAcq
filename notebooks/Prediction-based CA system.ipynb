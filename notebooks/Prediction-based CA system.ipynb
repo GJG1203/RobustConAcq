{
 "cells": [
  {
   "cell_type": "code",
   "execution_count": 1,
   "id": "380abfc1",
   "metadata": {},
   "outputs": [
    {
     "name": "stdout",
     "output_type": "stream",
     "text": [
      "Requirement already satisfied: pycona in c:\\users\\gertj\\anaconda3\\envs\\cv\\lib\\site-packages (0.0.2)\n",
      "Requirement already satisfied: scikit-learn in c:\\users\\gertj\\anaconda3\\envs\\cv\\lib\\site-packages (from pycona) (1.0.2)\n",
      "Requirement already satisfied: cpmpy>=0.9 in c:\\users\\gertj\\anaconda3\\envs\\cv\\lib\\site-packages (from pycona) (0.9.22)\n",
      "Requirement already satisfied: numpy>=1.5 in c:\\users\\gertj\\anaconda3\\envs\\cv\\lib\\site-packages (from cpmpy>=0.9->pycona) (1.21.5)\n",
      "Requirement already satisfied: ortools>=5.0 in c:\\users\\gertj\\anaconda3\\envs\\cv\\lib\\site-packages (from cpmpy>=0.9->pycona) (9.5.2237)\n",
      "Requirement already satisfied: joblib>=0.11 in c:\\users\\gertj\\anaconda3\\envs\\cv\\lib\\site-packages (from scikit-learn->pycona) (1.1.1)\n",
      "Requirement already satisfied: threadpoolctl>=2.0.0 in c:\\users\\gertj\\anaconda3\\envs\\cv\\lib\\site-packages (from scikit-learn->pycona) (2.2.0)\n",
      "Requirement already satisfied: scipy>=1.1.0 in c:\\users\\gertj\\anaconda3\\envs\\cv\\lib\\site-packages (from scikit-learn->pycona) (1.7.3)\n",
      "Requirement already satisfied: protobuf>=4.21.5 in c:\\users\\gertj\\anaconda3\\envs\\cv\\lib\\site-packages (from ortools>=5.0->cpmpy>=0.9->pycona) (4.24.4)\n",
      "Requirement already satisfied: absl-py>=0.13 in c:\\users\\gertj\\anaconda3\\envs\\cv\\lib\\site-packages (from ortools>=5.0->cpmpy>=0.9->pycona) (1.3.0)\n"
     ]
    }
   ],
   "source": [
    "!pip install pycona\n",
    "import pandas as pd\n",
    "from pycona import *"
   ]
  },
  {
   "cell_type": "markdown",
   "id": "4bfb4462",
   "metadata": {},
   "source": [
    "## Prediction-based interactive CA"
   ]
  },
  {
   "cell_type": "markdown",
   "id": "547cb334",
   "metadata": {},
   "source": [
    "In **PyConA**, we can customize the environment used in interactive CA systems. The basic environment for interactive CA systems, i.e., *ActiveCAEnv*, allows to customize the exact method use for the 3 subcomponents of interactive CA: query generation, finding the scope, finding the constraint. \n",
    "\n",
    "In addition to the basic CA environment, a prediction-based environment is defined, namely *ProbaActiveCAEnv*, using techniques presented in \"Learning to Learn in Interactive Constraint Acquisition\", AAAI, 2024.\n",
    "\n",
    "The difference is that in ProbaActiveCAEnv, additional information is stored during the acquisition process; a constraint-level dataset is created and grown incrementally throughout the CA process, as gradually more information is obtained about constraints from the initial bias. Learned constraints get a positive label and excluded constraints get a negative label. The constraint-level dataset can be used to train a predictor/classifier, which can in turn be used to predict probabilities for the remaining candidate constraints and guide the acquisition process.\n",
    "\n",
    "For the above, ProbaActiveCAEnv provides 2 additional options that can be customized by the user:\n",
    "- Feature representation (.feature_representation): The feature representation used for the constraints\n",
    "- Classifier (.classifier): The (probabilistic) classifier used to predict probabilities for the candidate constraints\n",
    "\n",
    "By default, a decision tree classifier is used, while the default feature representation is the one presented in \"Learning to Learn in Interactive Constraint Acquisition\", AAAI, 2024.\n"
   ]
  },
  {
   "cell_type": "markdown",
   "id": "399853ba",
   "metadata": {},
   "source": [
    "Let's create an interactive CA system using ProbaActiveCAEnv, and compare its performance with using the basic ActiveCAEnv. For that, we will use the running example on nurse rostering from the introductory tutorial."
   ]
  },
  {
   "cell_type": "code",
   "execution_count": 2,
   "id": "2dc4655f",
   "metadata": {},
   "outputs": [
    {
     "name": "stdout",
     "output_type": "stream",
     "text": [
      "Running growacq with <pycona.active_algorithms.mquacq2.MQuAcq2 object at 0x000001BD28557A08> as inner algorithm\n",
      "\n",
      "Learned 0 constraints in 0 queries.\n",
      "...L..\n",
      "Learned 1 constraints in 5 queries.\n",
      "...L.L\n",
      "Learned 3 constraints in 9 queries.\n",
      "...L.L.L\n",
      "Learned 6 constraints in 14 queries.\n",
      "...L.L.L.L\n",
      "Learned 10 constraints in 20 queries.\n",
      "...L.L.L.L.L\n",
      "Learned 15 constraints in 27 queries.\n",
      "....L.L...\n",
      "Learned 17 constraints in 35 queries.\n",
      ".......L....L.L\n",
      "Learned 20 constraints in 47 queries.\n",
      "........L.L\n",
      "Learned 22 constraints in 56 queries.\n",
      "........L.L.L\n",
      "Learned 25 constraints in 66 queries.\n",
      ".....L..L..L.L\n",
      "Learned 29 constraints in 76 queries.\n",
      ".....L..L..L.L.L\n",
      "Learned 34 constraints in 87 queries.\n"
     ]
    }
   ],
   "source": [
    "from pycona import benchmarks\n",
    "\n",
    "instance, oracle = benchmarks.construct_nurse_rostering(3, 2, 8, 2)\n",
    "\n",
    "# env = ProbaActiveCAEnv() # <- we do not have to use it, as it is the default\n",
    "ga = GrowAcq() # GrowAcq(env)\n",
    "learned_instance = ga.learn(instance, oracle, verbose=1)"
   ]
  },
  {
   "cell_type": "code",
   "execution_count": 3,
   "id": "e7227a1a",
   "metadata": {
    "scrolled": false
   },
   "outputs": [
    {
     "data": {
      "text/html": [
       "<div>\n",
       "<style scoped>\n",
       "    .dataframe tbody tr th:only-of-type {\n",
       "        vertical-align: middle;\n",
       "    }\n",
       "\n",
       "    .dataframe tbody tr th {\n",
       "        vertical-align: top;\n",
       "    }\n",
       "\n",
       "    .dataframe thead th {\n",
       "        text-align: right;\n",
       "    }\n",
       "</style>\n",
       "<table border=\"1\" class=\"dataframe\">\n",
       "  <thead>\n",
       "    <tr style=\"text-align: right;\">\n",
       "      <th></th>\n",
       "      <th></th>\n",
       "      <th>CL</th>\n",
       "      <th>tot_q</th>\n",
       "      <th>top_lvl_q</th>\n",
       "      <th>tfs_q</th>\n",
       "      <th>tfc_q</th>\n",
       "      <th>avg_q_size</th>\n",
       "      <th>avg_gen_time</th>\n",
       "      <th>avg_t</th>\n",
       "      <th>max_t</th>\n",
       "      <th>tot_t</th>\n",
       "      <th>conv</th>\n",
       "    </tr>\n",
       "  </thead>\n",
       "  <tbody>\n",
       "    <tr>\n",
       "      <th>Probabilistic</th>\n",
       "      <th>0</th>\n",
       "      <td>34</td>\n",
       "      <td>87</td>\n",
       "      <td>80</td>\n",
       "      <td>4</td>\n",
       "      <td>3</td>\n",
       "      <td>5.3333</td>\n",
       "      <td>0.0400</td>\n",
       "      <td>0.0414</td>\n",
       "      <td>0.1426</td>\n",
       "      <td>3.5993</td>\n",
       "      <td>1</td>\n",
       "    </tr>\n",
       "    <tr>\n",
       "      <th>Basic</th>\n",
       "      <th>0</th>\n",
       "      <td>34</td>\n",
       "      <td>192</td>\n",
       "      <td>65</td>\n",
       "      <td>91</td>\n",
       "      <td>36</td>\n",
       "      <td>4.4792</td>\n",
       "      <td>0.0429</td>\n",
       "      <td>0.0228</td>\n",
       "      <td>0.1105</td>\n",
       "      <td>4.3720</td>\n",
       "      <td>1</td>\n",
       "    </tr>\n",
       "  </tbody>\n",
       "</table>\n",
       "</div>"
      ],
      "text/plain": [
       "                 CL  tot_q  top_lvl_q  tfs_q  tfc_q  avg_q_size  avg_gen_time  \\\n",
       "Probabilistic 0  34     87         80      4      3      5.3333        0.0400   \n",
       "Basic         0  34    192         65     91     36      4.4792        0.0429   \n",
       "\n",
       "                  avg_t   max_t   tot_t  conv  \n",
       "Probabilistic 0  0.0414  0.1426  3.5993     1  \n",
       "Basic         0  0.0228  0.1105  4.3720     1  "
      ]
     },
     "execution_count": 3,
     "metadata": {},
     "output_type": "execute_result"
    }
   ],
   "source": [
    "# compare its performance with using the basic ActiveCAEnv\n",
    "env_noprob = ActiveCAEnv()\n",
    "ga_noprob = GrowAcq(env_noprob)\n",
    "learned_instance = ga_noprob.learn(instance, oracle=oracle)\n",
    "\n",
    "\n",
    "pd.concat([ga.env.metrics.short_statistics, \n",
    "           ga_noprob.env.metrics.short_statistics], keys=[\"Probabilistic\", \"Basic\"])"
   ]
  },
  {
   "cell_type": "markdown",
   "id": "88ad50f3",
   "metadata": {},
   "source": [
    "As we can see, the number of queries was significantly smaller when using the probabilistic CA system."
   ]
  },
  {
   "cell_type": "markdown",
   "id": "38fe8c70",
   "metadata": {},
   "source": [
    "### Customize the behaviour of ProbaActiveCAEnv"
   ]
  },
  {
   "cell_type": "markdown",
   "id": "363bc1ca",
   "metadata": {},
   "source": [
    "##### Changing the classifier used"
   ]
  },
  {
   "cell_type": "markdown",
   "id": "dea8f22d",
   "metadata": {},
   "source": [
    "In **PyConA**, we can also alter the choice of the classifier to use. **PyConA** uses scikit-learn classifiers, but any classifier with a .fit() and .predict_proba() can be used. We have also defined a *Predictor* abstract class, which can be subclassed to be used in ActiveCAPredict.\n",
    "\n",
    "Let us now use a Naive Bayes classifier in ActiveCAPredict."
   ]
  },
  {
   "cell_type": "code",
   "execution_count": 4,
   "id": "a8d538d9",
   "metadata": {
    "scrolled": true
   },
   "outputs": [
    {
     "data": {
      "text/html": [
       "<div>\n",
       "<style scoped>\n",
       "    .dataframe tbody tr th:only-of-type {\n",
       "        vertical-align: middle;\n",
       "    }\n",
       "\n",
       "    .dataframe tbody tr th {\n",
       "        vertical-align: top;\n",
       "    }\n",
       "\n",
       "    .dataframe thead th {\n",
       "        text-align: right;\n",
       "    }\n",
       "</style>\n",
       "<table border=\"1\" class=\"dataframe\">\n",
       "  <thead>\n",
       "    <tr style=\"text-align: right;\">\n",
       "      <th></th>\n",
       "      <th></th>\n",
       "      <th>CL</th>\n",
       "      <th>tot_q</th>\n",
       "      <th>top_lvl_q</th>\n",
       "      <th>tfs_q</th>\n",
       "      <th>tfc_q</th>\n",
       "      <th>avg_q_size</th>\n",
       "      <th>avg_gen_time</th>\n",
       "      <th>avg_t</th>\n",
       "      <th>max_t</th>\n",
       "      <th>tot_t</th>\n",
       "      <th>conv</th>\n",
       "    </tr>\n",
       "  </thead>\n",
       "  <tbody>\n",
       "    <tr>\n",
       "      <th>Decision Tree</th>\n",
       "      <th>0</th>\n",
       "      <td>34</td>\n",
       "      <td>87</td>\n",
       "      <td>80</td>\n",
       "      <td>4</td>\n",
       "      <td>3</td>\n",
       "      <td>5.3333</td>\n",
       "      <td>0.0400</td>\n",
       "      <td>0.0414</td>\n",
       "      <td>0.1426</td>\n",
       "      <td>3.5993</td>\n",
       "      <td>1</td>\n",
       "    </tr>\n",
       "    <tr>\n",
       "      <th>Naive Bayes</th>\n",
       "      <th>0</th>\n",
       "      <td>34</td>\n",
       "      <td>97</td>\n",
       "      <td>86</td>\n",
       "      <td>6</td>\n",
       "      <td>5</td>\n",
       "      <td>5.3093</td>\n",
       "      <td>0.0416</td>\n",
       "      <td>0.0424</td>\n",
       "      <td>0.1446</td>\n",
       "      <td>4.1137</td>\n",
       "      <td>1</td>\n",
       "    </tr>\n",
       "    <tr>\n",
       "      <th>Basic</th>\n",
       "      <th>0</th>\n",
       "      <td>34</td>\n",
       "      <td>192</td>\n",
       "      <td>65</td>\n",
       "      <td>91</td>\n",
       "      <td>36</td>\n",
       "      <td>4.4792</td>\n",
       "      <td>0.0429</td>\n",
       "      <td>0.0228</td>\n",
       "      <td>0.1105</td>\n",
       "      <td>4.3720</td>\n",
       "      <td>1</td>\n",
       "    </tr>\n",
       "  </tbody>\n",
       "</table>\n",
       "</div>"
      ],
      "text/plain": [
       "                 CL  tot_q  top_lvl_q  tfs_q  tfc_q  avg_q_size  avg_gen_time  \\\n",
       "Decision Tree 0  34     87         80      4      3      5.3333        0.0400   \n",
       "Naive Bayes   0  34     97         86      6      5      5.3093        0.0416   \n",
       "Basic         0  34    192         65     91     36      4.4792        0.0429   \n",
       "\n",
       "                  avg_t   max_t   tot_t  conv  \n",
       "Decision Tree 0  0.0414  0.1426  3.5993     1  \n",
       "Naive Bayes   0  0.0424  0.1446  4.1137     1  \n",
       "Basic         0  0.0228  0.1105  4.3720     1  "
      ]
     },
     "execution_count": 4,
     "metadata": {},
     "output_type": "execute_result"
    }
   ],
   "source": [
    "from sklearn.naive_bayes import GaussianNB\n",
    "envNB = ProbaActiveCAEnv(classifier=GaussianNB())\n",
    "gaNB = GrowAcq(envNB)\n",
    "learned_instance = gaNB.learn(instance, oracle=oracle)\n",
    "\n",
    "pd.concat([ga.env.metrics.short_statistics, \n",
    "           gaNB.env.metrics.short_statistics,\n",
    "           ga_noprob.env.metrics.short_statistics], keys=[\"Decision Tree\", \"Naive Bayes\", \"Basic\"])"
   ]
  },
  {
   "cell_type": "markdown",
   "id": "8f91e3e9",
   "metadata": {},
   "source": [
    "We can observe a small increase in the number of queries, but still a decent performance compared to the basic ActiveCA."
   ]
  },
  {
   "cell_type": "markdown",
   "id": "82a89984",
   "metadata": {},
   "source": [
    "##### Changing the feature representation"
   ]
  },
  {
   "cell_type": "markdown",
   "id": "11a836fa",
   "metadata": {},
   "source": [
    "\n",
    "In **PyConA**, the FeatureRepresentation class is used to featurize constraints to be able to use them in a probabilistic classification context."
   ]
  },
  {
   "cell_type": "markdown",
   "id": "bee332a3",
   "metadata": {},
   "source": [
    "By subclassing FeatureRepresentation, we can define custom feature representations. Let's define a simple feature representation that only takes into account the relation of the constraint:"
   ]
  },
  {
   "cell_type": "code",
   "execution_count": 5,
   "id": "92cdf660",
   "metadata": {},
   "outputs": [],
   "source": [
    "from pycona.predictor import FeatureRepresentation\n",
    "from pycona.utils import get_relation\n",
    "\n",
    "class FeaturesSimpleRel(FeatureRepresentation):\n",
    "\n",
    "        def featurize_constraint(self, c):\n",
    "            relation = get_relation(c, self.instance.language)\n",
    "            return [relation]\n"
   ]
  },
  {
   "cell_type": "markdown",
   "id": "d57ffbc8",
   "metadata": {},
   "source": [
    "We can then pass this feature representation to ActiveCAPredict, either when initializing or later:"
   ]
  },
  {
   "cell_type": "code",
   "execution_count": 6,
   "id": "ee5f70b6",
   "metadata": {
    "scrolled": true
   },
   "outputs": [
    {
     "data": {
      "text/html": [
       "<div>\n",
       "<style scoped>\n",
       "    .dataframe tbody tr th:only-of-type {\n",
       "        vertical-align: middle;\n",
       "    }\n",
       "\n",
       "    .dataframe tbody tr th {\n",
       "        vertical-align: top;\n",
       "    }\n",
       "\n",
       "    .dataframe thead th {\n",
       "        text-align: right;\n",
       "    }\n",
       "</style>\n",
       "<table border=\"1\" class=\"dataframe\">\n",
       "  <thead>\n",
       "    <tr style=\"text-align: right;\">\n",
       "      <th></th>\n",
       "      <th></th>\n",
       "      <th>CL</th>\n",
       "      <th>tot_q</th>\n",
       "      <th>top_lvl_q</th>\n",
       "      <th>tfs_q</th>\n",
       "      <th>tfc_q</th>\n",
       "      <th>avg_q_size</th>\n",
       "      <th>avg_gen_time</th>\n",
       "      <th>avg_t</th>\n",
       "      <th>max_t</th>\n",
       "      <th>tot_t</th>\n",
       "      <th>conv</th>\n",
       "    </tr>\n",
       "  </thead>\n",
       "  <tbody>\n",
       "    <tr>\n",
       "      <th>All Features</th>\n",
       "      <th>0</th>\n",
       "      <td>34</td>\n",
       "      <td>81</td>\n",
       "      <td>78</td>\n",
       "      <td>1</td>\n",
       "      <td>2</td>\n",
       "      <td>5.2963</td>\n",
       "      <td>0.0409</td>\n",
       "      <td>0.0436</td>\n",
       "      <td>0.1435</td>\n",
       "      <td>3.5316</td>\n",
       "      <td>1</td>\n",
       "    </tr>\n",
       "    <tr>\n",
       "      <th>Simple Features</th>\n",
       "      <th>0</th>\n",
       "      <td>34</td>\n",
       "      <td>91</td>\n",
       "      <td>88</td>\n",
       "      <td>1</td>\n",
       "      <td>2</td>\n",
       "      <td>5.6264</td>\n",
       "      <td>0.0396</td>\n",
       "      <td>0.0412</td>\n",
       "      <td>0.1266</td>\n",
       "      <td>3.7530</td>\n",
       "      <td>1</td>\n",
       "    </tr>\n",
       "  </tbody>\n",
       "</table>\n",
       "</div>"
      ],
      "text/plain": [
       "                   CL  tot_q  top_lvl_q  tfs_q  tfc_q  avg_q_size  \\\n",
       "All Features    0  34     81         78      1      2      5.2963   \n",
       "Simple Features 0  34     91         88      1      2      5.6264   \n",
       "\n",
       "                   avg_gen_time   avg_t   max_t   tot_t  conv  \n",
       "All Features    0        0.0409  0.0436  0.1435  3.5316     1  \n",
       "Simple Features 0        0.0396  0.0412  0.1266  3.7530     1  "
      ]
     },
     "execution_count": 6,
     "metadata": {},
     "output_type": "execute_result"
    }
   ],
   "source": [
    "env1 = ProbaActiveCAEnv(feature_representation=FeaturesSimpleRel())\n",
    "ga1 = GrowAcq(env1)\n",
    "learned_instance1 = ga1.learn(instance, oracle=oracle)\n",
    "\n",
    "env2 = ProbaActiveCAEnv()\n",
    "ga2 = GrowAcq(env2)\n",
    "learned_instance2 = ga2.learn(instance, oracle=oracle)\n",
    "\n",
    "pd.concat([ga2.env.metrics.short_statistics, \n",
    "           ga1.env.metrics.short_statistics], keys=[\"All Features\", \"Simple Features\"])"
   ]
  },
  {
   "cell_type": "markdown",
   "id": "617cce2b",
   "metadata": {},
   "source": [
    "Although we see a slight increase in the number of queries when the simple feature representation we defined is used, compared to the more advanced default feature representation, it is already good enough to reduce the number of queries by a lot. That is because it can directly recognise that the majority of the candidate constraints probably are not part of the target set of constraints, as they are not \"!=\" constraints."
   ]
  },
  {
   "cell_type": "code",
   "execution_count": null,
   "id": "7c8f3bf1",
   "metadata": {},
   "outputs": [],
   "source": []
  }
 ],
 "metadata": {
  "kernelspec": {
   "display_name": "Python 3 (ipykernel)",
   "language": "python",
   "name": "python3"
  },
  "language_info": {
   "codemirror_mode": {
    "name": "ipython",
    "version": 3
   },
   "file_extension": ".py",
   "mimetype": "text/x-python",
   "name": "python",
   "nbconvert_exporter": "python",
   "pygments_lexer": "ipython3",
   "version": "3.7.16"
  }
 },
 "nbformat": 4,
 "nbformat_minor": 5
}
