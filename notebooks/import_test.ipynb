{
 "cells": [
  {
   "cell_type": "code",
   "execution_count": 16,
   "id": "fa203429-f05c-4f15-97aa-541ad2028ab2",
   "metadata": {},
   "outputs": [
    {
     "name": "stdout",
     "output_type": "stream",
     "text": [
      "Collecting git+https://github.com/GJG1203/RobustConAcq.git\n",
      "  Cloning https://github.com/GJG1203/RobustConAcq.git to c:\\users\\gertj\\appdata\\local\\temp\\pip-req-build-ilgbx876\n",
      "  Resolved https://github.com/GJG1203/RobustConAcq.git to commit e922cca5b082700b94d648f9b0e27456d6d1adb7\n",
      "  Installing build dependencies: started\n",
      "  Installing build dependencies: finished with status 'done'\n",
      "  Getting requirements to build wheel: started\n",
      "  Getting requirements to build wheel: finished with status 'done'\n",
      "  Preparing metadata (pyproject.toml): started\n",
      "  Preparing metadata (pyproject.toml): finished with status 'done'\n",
      "Requirement already satisfied: cpmpy>=0.9 in c:\\users\\gertj\\anaconda3\\envs\\thesis_env\\lib\\site-packages (from pycona==0.0.2) (0.9.22)\n",
      "Requirement already satisfied: scikit-learn in c:\\users\\gertj\\anaconda3\\envs\\thesis_env\\lib\\site-packages (from pycona==0.0.2) (1.5.2)\n",
      "Requirement already satisfied: ortools>=5.0 in c:\\users\\gertj\\anaconda3\\envs\\thesis_env\\lib\\site-packages (from cpmpy>=0.9->pycona==0.0.2) (9.11.4210)\n",
      "Requirement already satisfied: numpy>=1.5 in c:\\users\\gertj\\anaconda3\\envs\\thesis_env\\lib\\site-packages (from cpmpy>=0.9->pycona==0.0.2) (1.26.4)\n",
      "Requirement already satisfied: scipy>=1.6.0 in c:\\users\\gertj\\anaconda3\\envs\\thesis_env\\lib\\site-packages (from scikit-learn->pycona==0.0.2) (1.14.1)\n",
      "Requirement already satisfied: joblib>=1.2.0 in c:\\users\\gertj\\anaconda3\\envs\\thesis_env\\lib\\site-packages (from scikit-learn->pycona==0.0.2) (1.4.2)\n",
      "Requirement already satisfied: threadpoolctl>=3.1.0 in c:\\users\\gertj\\anaconda3\\envs\\thesis_env\\lib\\site-packages (from scikit-learn->pycona==0.0.2) (3.5.0)\n",
      "Requirement already satisfied: absl-py>=2.0.0 in c:\\users\\gertj\\anaconda3\\envs\\thesis_env\\lib\\site-packages (from ortools>=5.0->cpmpy>=0.9->pycona==0.0.2) (2.1.0)\n",
      "Requirement already satisfied: pandas>=2.0.0 in c:\\users\\gertj\\anaconda3\\envs\\thesis_env\\lib\\site-packages (from ortools>=5.0->cpmpy>=0.9->pycona==0.0.2) (2.2.2)\n",
      "Requirement already satisfied: protobuf<5.27,>=5.26.1 in c:\\users\\gertj\\anaconda3\\envs\\thesis_env\\lib\\site-packages (from ortools>=5.0->cpmpy>=0.9->pycona==0.0.2) (5.26.1)\n",
      "Requirement already satisfied: immutabledict>=3.0.0 in c:\\users\\gertj\\anaconda3\\envs\\thesis_env\\lib\\site-packages (from ortools>=5.0->cpmpy>=0.9->pycona==0.0.2) (4.2.0)\n",
      "Requirement already satisfied: python-dateutil>=2.8.2 in c:\\users\\gertj\\anaconda3\\envs\\thesis_env\\lib\\site-packages (from pandas>=2.0.0->ortools>=5.0->cpmpy>=0.9->pycona==0.0.2) (2.9.0.post0)\n",
      "Requirement already satisfied: pytz>=2020.1 in c:\\users\\gertj\\anaconda3\\envs\\thesis_env\\lib\\site-packages (from pandas>=2.0.0->ortools>=5.0->cpmpy>=0.9->pycona==0.0.2) (2024.1)\n",
      "Requirement already satisfied: tzdata>=2022.7 in c:\\users\\gertj\\anaconda3\\envs\\thesis_env\\lib\\site-packages (from pandas>=2.0.0->ortools>=5.0->cpmpy>=0.9->pycona==0.0.2) (2023.3)\n",
      "Requirement already satisfied: six>=1.5 in c:\\users\\gertj\\anaconda3\\envs\\thesis_env\\lib\\site-packages (from python-dateutil>=2.8.2->pandas>=2.0.0->ortools>=5.0->cpmpy>=0.9->pycona==0.0.2) (1.16.0)\n"
     ]
    },
    {
     "name": "stderr",
     "output_type": "stream",
     "text": [
      "  Running command git clone --filter=blob:none --quiet https://github.com/GJG1203/RobustConAcq.git 'C:\\Users\\gertj\\AppData\\Local\\Temp\\pip-req-build-ilgbx876'\n"
     ]
    },
    {
     "name": "stdout",
     "output_type": "stream",
     "text": [
      "Requirement already satisfied: networkx in c:\\users\\gertj\\anaconda3\\envs\\thesis_env\\lib\\site-packages (3.3)\n"
     ]
    }
   ],
   "source": [
    "!pip install git+https://github.com/GJG1203/RobustConAcq.git\n",
    "!pip install networkx"
   ]
  },
  {
   "cell_type": "code",
   "execution_count": 17,
   "id": "03ab5c9b-6e1d-4f14-95ba-3965b0e19271",
   "metadata": {},
   "outputs": [
    {
     "name": "stdout",
     "output_type": "stream",
     "text": [
      "import succeeded\n"
     ]
    }
   ],
   "source": [
    "print('import succeeded')"
   ]
  },
  {
   "cell_type": "code",
   "execution_count": 18,
   "id": "10d62eb8-08cb-4c7c-83fa-1eb45def89a4",
   "metadata": {},
   "outputs": [],
   "source": [
    "from pycona import *"
   ]
  },
  {
   "cell_type": "code",
   "execution_count": 19,
   "id": "655423c7-c912-4740-b7bb-3840b9ea9df3",
   "metadata": {},
   "outputs": [],
   "source": [
    "import cpmpy as cp\n",
    "\n",
    "def construct_nurse_rostering(shifts_per_day, num_days, num_nurses, nurses_per_shift):\n",
    "\n",
    "    # Define the variables\n",
    "    roster_matrix = cp.intvar(1, num_nurses, shape=(num_days, shifts_per_day, nurses_per_shift), \n",
    "                              name=\"shifts\")\n",
    "\n",
    "\n",
    "    # Create the language:\n",
    "    AV = absvar(2)  # create abstract vars - as many as maximum arity\n",
    "    # create abstract relations using the abstract vars\n",
    "    lang = [AV[0] == AV[1], AV[0] != AV[1], AV[0] < AV[1], AV[0] > AV[1], AV[0] >= AV[1], AV[0] <= AV[1]]\n",
    "\n",
    "    instance = ProblemInstance(variables=roster_matrix, language=lang)\n",
    "\n",
    "    return instance"
   ]
  },
  {
   "cell_type": "code",
   "execution_count": 20,
   "id": "37980064-1239-483d-9e9c-c173f7afa10d",
   "metadata": {},
   "outputs": [
    {
     "name": "stdout",
     "output_type": "stream",
     "text": [
      "ProblemInstance: \n",
      "\n",
      "Variables: [[[shifts[0,0,0] shifts[0,0,1]]\n",
      "  [shifts[0,1,0] shifts[0,1,1]]\n",
      "  [shifts[0,2,0] shifts[0,2,1]]]\n",
      "\n",
      " [[shifts[1,0,0] shifts[1,0,1]]\n",
      "  [shifts[1,1,0] shifts[1,1,1]]\n",
      "  [shifts[1,2,0] shifts[1,2,1]]]].\n",
      "\n",
      "Language: [(AV4) == (AV5), (AV4) != (AV5), (AV4) < (AV5), (AV4) > (AV5), (AV4) >= (AV5), (AV4) <= (AV5)].\n"
     ]
    }
   ],
   "source": [
    "instance = construct_nurse_rostering(3, 2, 8, 2)\n",
    "print(instance)"
   ]
  },
  {
   "cell_type": "code",
   "execution_count": 21,
   "id": "4037838d-d716-4f7b-9a92-3e2ecf34ee1e",
   "metadata": {},
   "outputs": [],
   "source": [
    "def construct_nurse_rostering_with_oracle(shifts_per_day, num_days, num_nurses, nurses_per_shift):\n",
    "    \n",
    "    inst = construct_nurse_rostering(shifts_per_day, num_days, num_nurses, nurses_per_shift)\n",
    "    \n",
    "    # Create an oracle for simulation, by defining the ground truth problem\n",
    "    ## Define the variables\n",
    "    roster_matrix = inst.variables\n",
    "    \n",
    "    ## Define the list of (fixed-arity/decomposed) constraints\n",
    "    C_T = []\n",
    "\n",
    "    ## Constraint: Each shift in a day must be assigned to a different nurse\n",
    "    for day in range(num_days):\n",
    "        C_T += cp.AllDifferent(roster_matrix[day, ...]).decompose()   # ... means all remaining dimensions\n",
    "\n",
    "    ## Constraint: The last shift of a day cannot have the same nurse as the first shift of the next day\n",
    "    for day in range(num_days - 1):\n",
    "        C_T += cp.AllDifferent(roster_matrix[day, shifts_per_day - 1], roster_matrix[day + 1, 0]).decompose()\n",
    "\n",
    "    oracle = ConstraintOracle(C_T)\n",
    "\n",
    "    return inst, oracle"
   ]
  },
  {
   "cell_type": "code",
   "execution_count": 22,
   "id": "8659ee39-66f0-4684-ae21-43354cb4902f",
   "metadata": {},
   "outputs": [
    {
     "ename": "NameError",
     "evalue": "name 'RobustAcq' is not defined",
     "output_type": "error",
     "traceback": [
      "\u001b[1;31m---------------------------------------------------------------------------\u001b[0m",
      "\u001b[1;31mNameError\u001b[0m                                 Traceback (most recent call last)",
      "Cell \u001b[1;32mIn[22], line 3\u001b[0m\n\u001b[0;32m      1\u001b[0m instance, oracle \u001b[38;5;241m=\u001b[39m construct_nurse_rostering_with_oracle(\u001b[38;5;241m3\u001b[39m, \u001b[38;5;241m2\u001b[39m, \u001b[38;5;241m8\u001b[39m, \u001b[38;5;241m2\u001b[39m)\n\u001b[1;32m----> 3\u001b[0m ca \u001b[38;5;241m=\u001b[39m \u001b[43mRobustAcq\u001b[49m()\n\u001b[0;32m      4\u001b[0m learned_instance \u001b[38;5;241m=\u001b[39m ca\u001b[38;5;241m.\u001b[39mlearn(instance, oracle\u001b[38;5;241m=\u001b[39moracle, verbose\u001b[38;5;241m=\u001b[39m\u001b[38;5;241m1\u001b[39m)\n",
      "\u001b[1;31mNameError\u001b[0m: name 'RobustAcq' is not defined"
     ]
    }
   ],
   "source": [
    "instance, oracle = construct_nurse_rostering_with_oracle(3, 2, 8, 2)\n",
    "\n",
    "ca = RobustAcq()\n",
    "learned_instance = ca.learn(instance, oracle=oracle, verbose=1)"
   ]
  },
  {
   "cell_type": "code",
   "execution_count": null,
   "id": "41b91e4e-74ff-4c15-8f4f-6774abff468d",
   "metadata": {},
   "outputs": [],
   "source": []
  }
 ],
 "metadata": {
  "kernelspec": {
   "display_name": "Python 3 (ipykernel)",
   "language": "python",
   "name": "python3"
  },
  "language_info": {
   "codemirror_mode": {
    "name": "ipython",
    "version": 3
   },
   "file_extension": ".py",
   "mimetype": "text/x-python",
   "name": "python",
   "nbconvert_exporter": "python",
   "pygments_lexer": "ipython3",
   "version": "3.10.15"
  }
 },
 "nbformat": 4,
 "nbformat_minor": 5
}
