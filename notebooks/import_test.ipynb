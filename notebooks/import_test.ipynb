{
 "cells": [
  {
   "cell_type": "code",
   "execution_count": 13,
   "id": "fa203429-f05c-4f15-97aa-541ad2028ab2",
   "metadata": {},
   "outputs": [
    {
     "name": "stdout",
     "output_type": "stream",
     "text": [
      "Collecting git+https://github.com/GJG1203/RobustConAcq.git\n",
      "  Cloning https://github.com/GJG1203/RobustConAcq.git to c:\\users\\gertj\\appdata\\local\\temp\\pip-req-build-q1vzkpmf\n",
      "  Resolved https://github.com/GJG1203/RobustConAcq.git to commit 9769dcd6036a881958881dbbb0551993baedfabc\n",
      "  Installing build dependencies: started\n",
      "  Installing build dependencies: finished with status 'done'\n",
      "  Getting requirements to build wheel: started\n",
      "  Getting requirements to build wheel: finished with status 'done'\n",
      "  Preparing metadata (pyproject.toml): started\n",
      "  Preparing metadata (pyproject.toml): finished with status 'done'\n",
      "Requirement already satisfied: cpmpy>=0.9 in c:\\users\\gertj\\anaconda3\\envs\\thesis_env\\lib\\site-packages (from pycona==0.0.2) (0.9.22)\n",
      "Requirement already satisfied: scikit-learn in c:\\users\\gertj\\anaconda3\\envs\\thesis_env\\lib\\site-packages (from pycona==0.0.2) (1.5.2)\n",
      "Requirement already satisfied: ortools>=5.0 in c:\\users\\gertj\\anaconda3\\envs\\thesis_env\\lib\\site-packages (from cpmpy>=0.9->pycona==0.0.2) (9.11.4210)\n",
      "Requirement already satisfied: numpy>=1.5 in c:\\users\\gertj\\anaconda3\\envs\\thesis_env\\lib\\site-packages (from cpmpy>=0.9->pycona==0.0.2) (1.26.4)\n",
      "Requirement already satisfied: scipy>=1.6.0 in c:\\users\\gertj\\anaconda3\\envs\\thesis_env\\lib\\site-packages (from scikit-learn->pycona==0.0.2) (1.14.1)\n",
      "Requirement already satisfied: joblib>=1.2.0 in c:\\users\\gertj\\anaconda3\\envs\\thesis_env\\lib\\site-packages (from scikit-learn->pycona==0.0.2) (1.4.2)\n",
      "Requirement already satisfied: threadpoolctl>=3.1.0 in c:\\users\\gertj\\anaconda3\\envs\\thesis_env\\lib\\site-packages (from scikit-learn->pycona==0.0.2) (3.5.0)\n",
      "Requirement already satisfied: absl-py>=2.0.0 in c:\\users\\gertj\\anaconda3\\envs\\thesis_env\\lib\\site-packages (from ortools>=5.0->cpmpy>=0.9->pycona==0.0.2) (2.1.0)\n",
      "Requirement already satisfied: pandas>=2.0.0 in c:\\users\\gertj\\anaconda3\\envs\\thesis_env\\lib\\site-packages (from ortools>=5.0->cpmpy>=0.9->pycona==0.0.2) (2.2.2)\n",
      "Requirement already satisfied: protobuf<5.27,>=5.26.1 in c:\\users\\gertj\\anaconda3\\envs\\thesis_env\\lib\\site-packages (from ortools>=5.0->cpmpy>=0.9->pycona==0.0.2) (5.26.1)\n",
      "Requirement already satisfied: immutabledict>=3.0.0 in c:\\users\\gertj\\anaconda3\\envs\\thesis_env\\lib\\site-packages (from ortools>=5.0->cpmpy>=0.9->pycona==0.0.2) (4.2.0)\n",
      "Requirement already satisfied: python-dateutil>=2.8.2 in c:\\users\\gertj\\anaconda3\\envs\\thesis_env\\lib\\site-packages (from pandas>=2.0.0->ortools>=5.0->cpmpy>=0.9->pycona==0.0.2) (2.9.0.post0)\n",
      "Requirement already satisfied: pytz>=2020.1 in c:\\users\\gertj\\anaconda3\\envs\\thesis_env\\lib\\site-packages (from pandas>=2.0.0->ortools>=5.0->cpmpy>=0.9->pycona==0.0.2) (2024.1)\n",
      "Requirement already satisfied: tzdata>=2022.7 in c:\\users\\gertj\\anaconda3\\envs\\thesis_env\\lib\\site-packages (from pandas>=2.0.0->ortools>=5.0->cpmpy>=0.9->pycona==0.0.2) (2023.3)\n",
      "Requirement already satisfied: six>=1.5 in c:\\users\\gertj\\anaconda3\\envs\\thesis_env\\lib\\site-packages (from python-dateutil>=2.8.2->pandas>=2.0.0->ortools>=5.0->cpmpy>=0.9->pycona==0.0.2) (1.16.0)\n"
     ]
    },
    {
     "name": "stderr",
     "output_type": "stream",
     "text": [
      "  Running command git clone --filter=blob:none --quiet https://github.com/GJG1203/RobustConAcq.git 'C:\\Users\\gertj\\AppData\\Local\\Temp\\pip-req-build-q1vzkpmf'\n"
     ]
    },
    {
     "name": "stdout",
     "output_type": "stream",
     "text": [
      "Collecting networkx\n",
      "  Downloading networkx-3.3-py3-none-any.whl.metadata (5.1 kB)\n",
      "Downloading networkx-3.3-py3-none-any.whl (1.7 MB)\n",
      "   ---------------------------------------- 0.0/1.7 MB ? eta -:--:--\n",
      "   ------------------ --------------------- 0.8/1.7 MB 5.6 MB/s eta 0:00:01\n",
      "   ---------------------------------------- 1.7/1.7 MB 4.8 MB/s eta 0:00:00\n",
      "Installing collected packages: networkx\n",
      "Successfully installed networkx-3.3\n"
     ]
    }
   ],
   "source": [
    "!pip install git+https://github.com/GJG1203/RobustConAcq.git\n",
    "!pip install networkx"
   ]
  },
  {
   "cell_type": "code",
   "execution_count": 14,
   "id": "03ab5c9b-6e1d-4f14-95ba-3965b0e19271",
   "metadata": {},
   "outputs": [
    {
     "name": "stdout",
     "output_type": "stream",
     "text": [
      "import succeeded\n"
     ]
    }
   ],
   "source": [
    "print('import succeeded')"
   ]
  },
  {
   "cell_type": "code",
   "execution_count": 15,
   "id": "10d62eb8-08cb-4c7c-83fa-1eb45def89a4",
   "metadata": {},
   "outputs": [],
   "source": [
    "from pycona import *"
   ]
  },
  {
   "cell_type": "code",
   "execution_count": null,
   "id": "655423c7-c912-4740-b7bb-3840b9ea9df3",
   "metadata": {},
   "outputs": [],
   "source": []
  }
 ],
 "metadata": {
  "kernelspec": {
   "display_name": "Python 3 (ipykernel)",
   "language": "python",
   "name": "python3"
  },
  "language_info": {
   "codemirror_mode": {
    "name": "ipython",
    "version": 3
   },
   "file_extension": ".py",
   "mimetype": "text/x-python",
   "name": "python",
   "nbconvert_exporter": "python",
   "pygments_lexer": "ipython3",
   "version": "3.10.15"
  }
 },
 "nbformat": 4,
 "nbformat_minor": 5
}
